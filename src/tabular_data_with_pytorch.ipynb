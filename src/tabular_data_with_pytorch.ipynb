{
 "cells": [
  {
   "cell_type": "code",
   "execution_count": 2,
   "metadata": {},
   "outputs": [],
   "source": [
    "### minimize training data ###\n",
    "import pandas as pd\n",
    "import random as rndn\n",
    "\n",
    "filename = r\"../input/train.csv\"\n",
    "n = sum(1 for line in open(filename)) - 1 #number of records in file (excludes header)\n",
    "s = 100000 #desired sample size\n",
    "skip = sorted(rndn.sample(range(1,n+1),n-s)) #the 0-indexed header will not be included in the skip list\n",
    "df = pd.read_csv(filename, skiprows=skip)\n",
    "df.to_csv(\"../input/train_min.csv\")\n"
   ]
  },
  {
   "cell_type": "code",
   "execution_count": 1,
   "metadata": {
    "pycharm": {
     "name": "#%%\n"
    }
   },
   "outputs": [
    {
     "data": {
      "text/plain": "   Unnamed: 0                            key  fare_amount  \\\n0           0    2010-03-27 02:26:39.0000001         14.5   \n1           1    2015-02-15 22:41:32.0000003          9.0   \n2           2  2011-01-14 18:10:00.000000129          5.7   \n3           3    2011-06-20 14:52:22.0000004         18.5   \n4           4   2011-10-14 12:20:00.00000051          4.9   \n\n           pickup_datetime  pickup_longitude  pickup_latitude  \\\n0  2010-03-27 02:26:39 UTC        -73.961598        40.716487   \n1  2015-02-15 22:41:32 UTC        -74.003448        40.733101   \n2  2011-01-14 18:10:00 UTC        -73.986370        40.747380   \n3  2011-06-20 14:52:22 UTC        -73.997892        40.724297   \n4  2011-10-14 12:20:00 UTC        -73.952797        40.780497   \n\n   dropoff_longitude  dropoff_latitude  passenger_count  \n0         -73.960417         40.674963                2  \n1         -74.008003         40.707214                1  \n2         -73.975567         40.744572                2  \n3         -73.977578         40.786941                1  \n4         -73.955042         40.788527                5  ",
      "text/html": "<div>\n<style scoped>\n    .dataframe tbody tr th:only-of-type {\n        vertical-align: middle;\n    }\n\n    .dataframe tbody tr th {\n        vertical-align: top;\n    }\n\n    .dataframe thead th {\n        text-align: right;\n    }\n</style>\n<table border=\"1\" class=\"dataframe\">\n  <thead>\n    <tr style=\"text-align: right;\">\n      <th></th>\n      <th>Unnamed: 0</th>\n      <th>key</th>\n      <th>fare_amount</th>\n      <th>pickup_datetime</th>\n      <th>pickup_longitude</th>\n      <th>pickup_latitude</th>\n      <th>dropoff_longitude</th>\n      <th>dropoff_latitude</th>\n      <th>passenger_count</th>\n    </tr>\n  </thead>\n  <tbody>\n    <tr>\n      <th>0</th>\n      <td>0</td>\n      <td>2010-03-27 02:26:39.0000001</td>\n      <td>14.5</td>\n      <td>2010-03-27 02:26:39 UTC</td>\n      <td>-73.961598</td>\n      <td>40.716487</td>\n      <td>-73.960417</td>\n      <td>40.674963</td>\n      <td>2</td>\n    </tr>\n    <tr>\n      <th>1</th>\n      <td>1</td>\n      <td>2015-02-15 22:41:32.0000003</td>\n      <td>9.0</td>\n      <td>2015-02-15 22:41:32 UTC</td>\n      <td>-74.003448</td>\n      <td>40.733101</td>\n      <td>-74.008003</td>\n      <td>40.707214</td>\n      <td>1</td>\n    </tr>\n    <tr>\n      <th>2</th>\n      <td>2</td>\n      <td>2011-01-14 18:10:00.000000129</td>\n      <td>5.7</td>\n      <td>2011-01-14 18:10:00 UTC</td>\n      <td>-73.986370</td>\n      <td>40.747380</td>\n      <td>-73.975567</td>\n      <td>40.744572</td>\n      <td>2</td>\n    </tr>\n    <tr>\n      <th>3</th>\n      <td>3</td>\n      <td>2011-06-20 14:52:22.0000004</td>\n      <td>18.5</td>\n      <td>2011-06-20 14:52:22 UTC</td>\n      <td>-73.997892</td>\n      <td>40.724297</td>\n      <td>-73.977578</td>\n      <td>40.786941</td>\n      <td>1</td>\n    </tr>\n    <tr>\n      <th>4</th>\n      <td>4</td>\n      <td>2011-10-14 12:20:00.00000051</td>\n      <td>4.9</td>\n      <td>2011-10-14 12:20:00 UTC</td>\n      <td>-73.952797</td>\n      <td>40.780497</td>\n      <td>-73.955042</td>\n      <td>40.788527</td>\n      <td>5</td>\n    </tr>\n  </tbody>\n</table>\n</div>"
     },
     "execution_count": 1,
     "metadata": {},
     "output_type": "execute_result"
    }
   ],
   "source": [
    "### https://towardsdatascience.com/deep-learning-using-pytorch-for-tabular-data-c68017d8b480 ###"
   ]
  },
  {
   "cell_type": "code",
   "execution_count": 3,
   "metadata": {
    "pycharm": {
     "name": "#%%\n"
    }
   },
   "outputs": [
    {
     "data": {
      "text/html": [
       "<div>\n",
       "<style scoped>\n",
       "    .dataframe tbody tr th:only-of-type {\n",
       "        vertical-align: middle;\n",
       "    }\n",
       "\n",
       "    .dataframe tbody tr th {\n",
       "        vertical-align: top;\n",
       "    }\n",
       "\n",
       "    .dataframe thead th {\n",
       "        text-align: right;\n",
       "    }\n",
       "</style>\n",
       "<table border=\"1\" class=\"dataframe\">\n",
       "  <thead>\n",
       "    <tr style=\"text-align: right;\">\n",
       "      <th></th>\n",
       "      <th>key</th>\n",
       "      <th>pickup_datetime</th>\n",
       "      <th>pickup_longitude</th>\n",
       "      <th>pickup_latitude</th>\n",
       "      <th>dropoff_longitude</th>\n",
       "      <th>dropoff_latitude</th>\n",
       "      <th>passenger_count</th>\n",
       "    </tr>\n",
       "  </thead>\n",
       "  <tbody>\n",
       "    <tr>\n",
       "      <th>0</th>\n",
       "      <td>2015-01-27 13:08:24.0000002</td>\n",
       "      <td>2015-01-27 13:08:24 UTC</td>\n",
       "      <td>-73.973320</td>\n",
       "      <td>40.763805</td>\n",
       "      <td>-73.981430</td>\n",
       "      <td>40.743835</td>\n",
       "      <td>1</td>\n",
       "    </tr>\n",
       "    <tr>\n",
       "      <th>1</th>\n",
       "      <td>2015-01-27 13:08:24.0000003</td>\n",
       "      <td>2015-01-27 13:08:24 UTC</td>\n",
       "      <td>-73.986862</td>\n",
       "      <td>40.719383</td>\n",
       "      <td>-73.998886</td>\n",
       "      <td>40.739201</td>\n",
       "      <td>1</td>\n",
       "    </tr>\n",
       "    <tr>\n",
       "      <th>2</th>\n",
       "      <td>2011-10-08 11:53:44.0000002</td>\n",
       "      <td>2011-10-08 11:53:44 UTC</td>\n",
       "      <td>-73.982524</td>\n",
       "      <td>40.751260</td>\n",
       "      <td>-73.979654</td>\n",
       "      <td>40.746139</td>\n",
       "      <td>1</td>\n",
       "    </tr>\n",
       "    <tr>\n",
       "      <th>3</th>\n",
       "      <td>2012-12-01 21:12:12.0000002</td>\n",
       "      <td>2012-12-01 21:12:12 UTC</td>\n",
       "      <td>-73.981160</td>\n",
       "      <td>40.767807</td>\n",
       "      <td>-73.990448</td>\n",
       "      <td>40.751635</td>\n",
       "      <td>1</td>\n",
       "    </tr>\n",
       "    <tr>\n",
       "      <th>4</th>\n",
       "      <td>2012-12-01 21:12:12.0000003</td>\n",
       "      <td>2012-12-01 21:12:12 UTC</td>\n",
       "      <td>-73.966046</td>\n",
       "      <td>40.789775</td>\n",
       "      <td>-73.988565</td>\n",
       "      <td>40.744427</td>\n",
       "      <td>1</td>\n",
       "    </tr>\n",
       "  </tbody>\n",
       "</table>\n",
       "</div>"
      ],
      "text/plain": [
       "                           key          pickup_datetime  pickup_longitude  \\\n",
       "0  2015-01-27 13:08:24.0000002  2015-01-27 13:08:24 UTC        -73.973320   \n",
       "1  2015-01-27 13:08:24.0000003  2015-01-27 13:08:24 UTC        -73.986862   \n",
       "2  2011-10-08 11:53:44.0000002  2011-10-08 11:53:44 UTC        -73.982524   \n",
       "3  2012-12-01 21:12:12.0000002  2012-12-01 21:12:12 UTC        -73.981160   \n",
       "4  2012-12-01 21:12:12.0000003  2012-12-01 21:12:12 UTC        -73.966046   \n",
       "\n",
       "   pickup_latitude  dropoff_longitude  dropoff_latitude  passenger_count  \n",
       "0        40.763805         -73.981430         40.743835                1  \n",
       "1        40.719383         -73.998886         40.739201                1  \n",
       "2        40.751260         -73.979654         40.746139                1  \n",
       "3        40.767807         -73.990448         40.751635                1  \n",
       "4        40.789775         -73.988565         40.744427                1  "
      ]
     },
     "execution_count": 3,
     "metadata": {},
     "output_type": "execute_result"
    }
   ],
   "source": [
    "import pandas as pd\n",
    "\n",
    "df_train = pd.read_csv(\"../input/train_min.csv\")\n",
    "df_train.head()"
   ]
  },
  {
   "cell_type": "code",
   "execution_count": 4,
   "metadata": {},
   "outputs": [
    {
     "data": {
      "text/plain": [
       "0       2015-01-27 13:08:24.0000002\n",
       "1       2015-01-27 13:08:24.0000003\n",
       "2       2011-10-08 11:53:44.0000002\n",
       "3       2012-12-01 21:12:12.0000002\n",
       "4       2012-12-01 21:12:12.0000003\n",
       "                   ...             \n",
       "9909    2015-05-10 12:37:51.0000002\n",
       "9910    2015-01-12 17:05:51.0000001\n",
       "9911    2015-04-19 20:44:15.0000001\n",
       "9912    2015-01-31 01:05:19.0000005\n",
       "9913    2015-01-18 14:06:23.0000006\n",
       "Name: key, Length: 9914, dtype: object"
      ]
     },
     "execution_count": 4,
     "metadata": {},
     "output_type": "execute_result"
    }
   ],
   "source": [
    "df_test = pd.read_csv(\"../input/test.csv\")\n",
    "df_test.head()"
   ]
  },
  {
   "cell_type": "code",
   "execution_count": 5,
   "metadata": {},
   "outputs": [
    {
     "data": {
      "text/plain": [
       "1.5"
      ]
     },
     "execution_count": 5,
     "metadata": {},
     "output_type": "execute_result"
    }
   ],
   "source": [
    "### data preprocessing ###\n",
    "\n",
    "### copy for submission ###\n",
    "df_test_for_sub = df_test[\"key\"]\n",
    "df_test_for_sub"
   ]
  },
  {
   "cell_type": "code",
   "execution_count": 6,
   "metadata": {},
   "outputs": [
    {
     "data": {
      "text/plain": [
       "99990"
      ]
     },
     "execution_count": 6,
     "metadata": {},
     "output_type": "execute_result"
    }
   ],
   "source": [
    "# delete the fares that are less than 0\n",
    "df_train = df_train.loc[df_train.fare_amount > 0]\n",
    "df_train.fare_amount.min()"
   ]
  },
  {
   "cell_type": "code",
   "execution_count": 7,
   "metadata": {},
   "outputs": [],
   "source": [
    "len(df_train)"
   ]
  },
  {
   "cell_type": "code",
   "execution_count": 8,
   "metadata": {},
   "outputs": [
    {
     "data": {
      "text/html": [
       "<div>\n",
       "<style scoped>\n",
       "    .dataframe tbody tr th:only-of-type {\n",
       "        vertical-align: middle;\n",
       "    }\n",
       "\n",
       "    .dataframe tbody tr th {\n",
       "        vertical-align: top;\n",
       "    }\n",
       "\n",
       "    .dataframe thead th {\n",
       "        text-align: right;\n",
       "    }\n",
       "</style>\n",
       "<table border=\"1\" class=\"dataframe\">\n",
       "  <thead>\n",
       "    <tr style=\"text-align: right;\">\n",
       "      <th></th>\n",
       "      <th>Unnamed: 0</th>\n",
       "      <th>key</th>\n",
       "      <th>pickup_datetime</th>\n",
       "      <th>pickup_longitude</th>\n",
       "      <th>pickup_latitude</th>\n",
       "      <th>dropoff_longitude</th>\n",
       "      <th>dropoff_latitude</th>\n",
       "      <th>passenger_count</th>\n",
       "    </tr>\n",
       "  </thead>\n",
       "  <tbody>\n",
       "    <tr>\n",
       "      <th>0</th>\n",
       "      <td>0.0</td>\n",
       "      <td>2010-03-27 02:26:39.0000001</td>\n",
       "      <td>2010-03-27 02:26:39 UTC</td>\n",
       "      <td>-73.961598</td>\n",
       "      <td>40.716487</td>\n",
       "      <td>-73.960417</td>\n",
       "      <td>40.674963</td>\n",
       "      <td>2</td>\n",
       "    </tr>\n",
       "    <tr>\n",
       "      <th>1</th>\n",
       "      <td>1.0</td>\n",
       "      <td>2015-02-15 22:41:32.0000003</td>\n",
       "      <td>2015-02-15 22:41:32 UTC</td>\n",
       "      <td>-74.003448</td>\n",
       "      <td>40.733101</td>\n",
       "      <td>-74.008003</td>\n",
       "      <td>40.707214</td>\n",
       "      <td>1</td>\n",
       "    </tr>\n",
       "    <tr>\n",
       "      <th>2</th>\n",
       "      <td>2.0</td>\n",
       "      <td>2011-01-14 18:10:00.000000129</td>\n",
       "      <td>2011-01-14 18:10:00 UTC</td>\n",
       "      <td>-73.986370</td>\n",
       "      <td>40.747380</td>\n",
       "      <td>-73.975567</td>\n",
       "      <td>40.744572</td>\n",
       "      <td>2</td>\n",
       "    </tr>\n",
       "    <tr>\n",
       "      <th>3</th>\n",
       "      <td>3.0</td>\n",
       "      <td>2011-06-20 14:52:22.0000004</td>\n",
       "      <td>2011-06-20 14:52:22 UTC</td>\n",
       "      <td>-73.997892</td>\n",
       "      <td>40.724297</td>\n",
       "      <td>-73.977578</td>\n",
       "      <td>40.786941</td>\n",
       "      <td>1</td>\n",
       "    </tr>\n",
       "    <tr>\n",
       "      <th>4</th>\n",
       "      <td>4.0</td>\n",
       "      <td>2011-10-14 12:20:00.00000051</td>\n",
       "      <td>2011-10-14 12:20:00 UTC</td>\n",
       "      <td>-73.952797</td>\n",
       "      <td>40.780497</td>\n",
       "      <td>-73.955042</td>\n",
       "      <td>40.788527</td>\n",
       "      <td>5</td>\n",
       "    </tr>\n",
       "  </tbody>\n",
       "</table>\n",
       "</div>"
      ],
      "text/plain": [
       "   Unnamed: 0                            key          pickup_datetime  \\\n",
       "0         0.0    2010-03-27 02:26:39.0000001  2010-03-27 02:26:39 UTC   \n",
       "1         1.0    2015-02-15 22:41:32.0000003  2015-02-15 22:41:32 UTC   \n",
       "2         2.0  2011-01-14 18:10:00.000000129  2011-01-14 18:10:00 UTC   \n",
       "3         3.0    2011-06-20 14:52:22.0000004  2011-06-20 14:52:22 UTC   \n",
       "4         4.0   2011-10-14 12:20:00.00000051  2011-10-14 12:20:00 UTC   \n",
       "\n",
       "   pickup_longitude  pickup_latitude  dropoff_longitude  dropoff_latitude  \\\n",
       "0        -73.961598        40.716487         -73.960417         40.674963   \n",
       "1        -74.003448        40.733101         -74.008003         40.707214   \n",
       "2        -73.986370        40.747380         -73.975567         40.744572   \n",
       "3        -73.997892        40.724297         -73.977578         40.786941   \n",
       "4        -73.952797        40.780497         -73.955042         40.788527   \n",
       "\n",
       "   passenger_count  \n",
       "0                2  \n",
       "1                1  \n",
       "2                2  \n",
       "3                1  \n",
       "4                5  "
      ]
     },
     "execution_count": 8,
     "metadata": {},
     "output_type": "execute_result"
    }
   ],
   "source": [
    "train_X = df_train.drop(columns=['fare_amount'])\n",
    "\n",
    "Y = df_train['fare_amount']\n",
    "#Y = np.log(df_train.fare_amount)\n",
    "\n",
    "test_X = df_test"
   ]
  },
  {
   "cell_type": "code",
   "execution_count": 9,
   "metadata": {},
   "outputs": [],
   "source": [
    "df = train_X.append(test_X, sort=False)\n",
    "df.head()"
   ]
  },
  {
   "cell_type": "code",
   "execution_count": 10,
   "metadata": {},
   "outputs": [
    {
     "data": {
      "text/html": [
       "<div>\n",
       "<style scoped>\n",
       "    .dataframe tbody tr th:only-of-type {\n",
       "        vertical-align: middle;\n",
       "    }\n",
       "\n",
       "    .dataframe tbody tr th {\n",
       "        vertical-align: top;\n",
       "    }\n",
       "\n",
       "    .dataframe thead th {\n",
       "        text-align: right;\n",
       "    }\n",
       "</style>\n",
       "<table border=\"1\" class=\"dataframe\">\n",
       "  <thead>\n",
       "    <tr style=\"text-align: right;\">\n",
       "      <th></th>\n",
       "      <th>Unnamed: 0</th>\n",
       "      <th>key</th>\n",
       "      <th>pickup_datetime</th>\n",
       "      <th>pickup_longitude</th>\n",
       "      <th>pickup_latitude</th>\n",
       "      <th>dropoff_longitude</th>\n",
       "      <th>dropoff_latitude</th>\n",
       "      <th>passenger_count</th>\n",
       "      <th>dist_km</th>\n",
       "    </tr>\n",
       "  </thead>\n",
       "  <tbody>\n",
       "    <tr>\n",
       "      <th>0</th>\n",
       "      <td>0.0</td>\n",
       "      <td>2010-03-27 02:26:39.0000001</td>\n",
       "      <td>2010-03-27 02:26:39 UTC</td>\n",
       "      <td>-73.961598</td>\n",
       "      <td>40.716487</td>\n",
       "      <td>-73.960417</td>\n",
       "      <td>40.674963</td>\n",
       "      <td>2</td>\n",
       "      <td>4.618332</td>\n",
       "    </tr>\n",
       "    <tr>\n",
       "      <th>1</th>\n",
       "      <td>1.0</td>\n",
       "      <td>2015-02-15 22:41:32.0000003</td>\n",
       "      <td>2015-02-15 22:41:32 UTC</td>\n",
       "      <td>-74.003448</td>\n",
       "      <td>40.733101</td>\n",
       "      <td>-74.008003</td>\n",
       "      <td>40.707214</td>\n",
       "      <td>1</td>\n",
       "      <td>2.903933</td>\n",
       "    </tr>\n",
       "    <tr>\n",
       "      <th>2</th>\n",
       "      <td>2.0</td>\n",
       "      <td>2011-01-14 18:10:00.000000129</td>\n",
       "      <td>2011-01-14 18:10:00 UTC</td>\n",
       "      <td>-73.986370</td>\n",
       "      <td>40.747380</td>\n",
       "      <td>-73.975567</td>\n",
       "      <td>40.744572</td>\n",
       "      <td>2</td>\n",
       "      <td>0.962144</td>\n",
       "    </tr>\n",
       "    <tr>\n",
       "      <th>3</th>\n",
       "      <td>3.0</td>\n",
       "      <td>2011-06-20 14:52:22.0000004</td>\n",
       "      <td>2011-06-20 14:52:22 UTC</td>\n",
       "      <td>-73.997892</td>\n",
       "      <td>40.724297</td>\n",
       "      <td>-73.977578</td>\n",
       "      <td>40.786941</td>\n",
       "      <td>1</td>\n",
       "      <td>7.172769</td>\n",
       "    </tr>\n",
       "    <tr>\n",
       "      <th>4</th>\n",
       "      <td>4.0</td>\n",
       "      <td>2011-10-14 12:20:00.00000051</td>\n",
       "      <td>2011-10-14 12:20:00 UTC</td>\n",
       "      <td>-73.952797</td>\n",
       "      <td>40.780497</td>\n",
       "      <td>-73.955042</td>\n",
       "      <td>40.788527</td>\n",
       "      <td>5</td>\n",
       "      <td>0.912682</td>\n",
       "    </tr>\n",
       "  </tbody>\n",
       "</table>\n",
       "</div>"
      ],
      "text/plain": [
       "   Unnamed: 0                            key          pickup_datetime  \\\n",
       "0         0.0    2010-03-27 02:26:39.0000001  2010-03-27 02:26:39 UTC   \n",
       "1         1.0    2015-02-15 22:41:32.0000003  2015-02-15 22:41:32 UTC   \n",
       "2         2.0  2011-01-14 18:10:00.000000129  2011-01-14 18:10:00 UTC   \n",
       "3         3.0    2011-06-20 14:52:22.0000004  2011-06-20 14:52:22 UTC   \n",
       "4         4.0   2011-10-14 12:20:00.00000051  2011-10-14 12:20:00 UTC   \n",
       "\n",
       "   pickup_longitude  pickup_latitude  dropoff_longitude  dropoff_latitude  \\\n",
       "0        -73.961598        40.716487         -73.960417         40.674963   \n",
       "1        -74.003448        40.733101         -74.008003         40.707214   \n",
       "2        -73.986370        40.747380         -73.975567         40.744572   \n",
       "3        -73.997892        40.724297         -73.977578         40.786941   \n",
       "4        -73.952797        40.780497         -73.955042         40.788527   \n",
       "\n",
       "   passenger_count   dist_km  \n",
       "0                2  4.618332  \n",
       "1                1  2.903933  \n",
       "2                2  0.962144  \n",
       "3                1  7.172769  \n",
       "4                5  0.912682  "
      ]
     },
     "execution_count": 10,
     "metadata": {},
     "output_type": "execute_result"
    }
   ],
   "source": [
    "### calculate the distance traveled ###\n",
    "\n",
    "import numpy as np\n",
    "\n",
    "def haversine_distance(df, lat1, long1, lat2, long2):\n",
    "    \"\"\"\n",
    "    Calculates the haversine distance between 2 sets of GPS coordinates in df\n",
    "    \"\"\"\n",
    "    r = 6371  # average radius of Earth in kilometers\n",
    "       \n",
    "    phi1 = np.radians(df[lat1])\n",
    "    phi2 = np.radians(df[lat2])\n",
    "    \n",
    "    delta_phi = np.radians(df[lat2]-df[lat1])\n",
    "    delta_lambda = np.radians(df[long2]-df[long1])\n",
    "     \n",
    "    a = np.sin(delta_phi/2)**2 + np.cos(phi1) * np.cos(phi2) * np.sin(delta_lambda/2)**2\n",
    "    c = 2 * np.arctan2(np.sqrt(a), np.sqrt(1-a))\n",
    "    d = (r * c) # in kilometers\n",
    "\n",
    "    return d"
   ]
  },
  {
   "cell_type": "code",
   "execution_count": 11,
   "metadata": {},
   "outputs": [
    {
     "data": {
      "text/html": [
       "<div>\n",
       "<style scoped>\n",
       "    .dataframe tbody tr th:only-of-type {\n",
       "        vertical-align: middle;\n",
       "    }\n",
       "\n",
       "    .dataframe tbody tr th {\n",
       "        vertical-align: top;\n",
       "    }\n",
       "\n",
       "    .dataframe thead th {\n",
       "        text-align: right;\n",
       "    }\n",
       "</style>\n",
       "<table border=\"1\" class=\"dataframe\">\n",
       "  <thead>\n",
       "    <tr style=\"text-align: right;\">\n",
       "      <th></th>\n",
       "      <th>Unnamed: 0</th>\n",
       "      <th>key</th>\n",
       "      <th>pickup_datetime</th>\n",
       "      <th>pickup_longitude</th>\n",
       "      <th>pickup_latitude</th>\n",
       "      <th>dropoff_longitude</th>\n",
       "      <th>dropoff_latitude</th>\n",
       "      <th>passenger_count</th>\n",
       "      <th>dist_km</th>\n",
       "      <th>EDTdate</th>\n",
       "      <th>Hour</th>\n",
       "      <th>AMorPM</th>\n",
       "      <th>Weekday</th>\n",
       "    </tr>\n",
       "  </thead>\n",
       "  <tbody>\n",
       "    <tr>\n",
       "      <th>0</th>\n",
       "      <td>0.0</td>\n",
       "      <td>2010-03-27 02:26:39.0000001</td>\n",
       "      <td>2010-03-27 02:26:39 UTC</td>\n",
       "      <td>-73.961598</td>\n",
       "      <td>40.716487</td>\n",
       "      <td>-73.960417</td>\n",
       "      <td>40.674963</td>\n",
       "      <td>2</td>\n",
       "      <td>4.618332</td>\n",
       "      <td>2010-03-26 22:26:39</td>\n",
       "      <td>22</td>\n",
       "      <td>pm</td>\n",
       "      <td>Fri</td>\n",
       "    </tr>\n",
       "    <tr>\n",
       "      <th>1</th>\n",
       "      <td>1.0</td>\n",
       "      <td>2015-02-15 22:41:32.0000003</td>\n",
       "      <td>2015-02-15 22:41:32 UTC</td>\n",
       "      <td>-74.003448</td>\n",
       "      <td>40.733101</td>\n",
       "      <td>-74.008003</td>\n",
       "      <td>40.707214</td>\n",
       "      <td>1</td>\n",
       "      <td>2.903933</td>\n",
       "      <td>2015-02-15 18:41:32</td>\n",
       "      <td>18</td>\n",
       "      <td>pm</td>\n",
       "      <td>Sun</td>\n",
       "    </tr>\n",
       "    <tr>\n",
       "      <th>2</th>\n",
       "      <td>2.0</td>\n",
       "      <td>2011-01-14 18:10:00.000000129</td>\n",
       "      <td>2011-01-14 18:10:00 UTC</td>\n",
       "      <td>-73.986370</td>\n",
       "      <td>40.747380</td>\n",
       "      <td>-73.975567</td>\n",
       "      <td>40.744572</td>\n",
       "      <td>2</td>\n",
       "      <td>0.962144</td>\n",
       "      <td>2011-01-14 14:10:00</td>\n",
       "      <td>14</td>\n",
       "      <td>pm</td>\n",
       "      <td>Fri</td>\n",
       "    </tr>\n",
       "    <tr>\n",
       "      <th>3</th>\n",
       "      <td>3.0</td>\n",
       "      <td>2011-06-20 14:52:22.0000004</td>\n",
       "      <td>2011-06-20 14:52:22 UTC</td>\n",
       "      <td>-73.997892</td>\n",
       "      <td>40.724297</td>\n",
       "      <td>-73.977578</td>\n",
       "      <td>40.786941</td>\n",
       "      <td>1</td>\n",
       "      <td>7.172769</td>\n",
       "      <td>2011-06-20 10:52:22</td>\n",
       "      <td>10</td>\n",
       "      <td>am</td>\n",
       "      <td>Mon</td>\n",
       "    </tr>\n",
       "    <tr>\n",
       "      <th>4</th>\n",
       "      <td>4.0</td>\n",
       "      <td>2011-10-14 12:20:00.00000051</td>\n",
       "      <td>2011-10-14 12:20:00 UTC</td>\n",
       "      <td>-73.952797</td>\n",
       "      <td>40.780497</td>\n",
       "      <td>-73.955042</td>\n",
       "      <td>40.788527</td>\n",
       "      <td>5</td>\n",
       "      <td>0.912682</td>\n",
       "      <td>2011-10-14 08:20:00</td>\n",
       "      <td>8</td>\n",
       "      <td>am</td>\n",
       "      <td>Fri</td>\n",
       "    </tr>\n",
       "  </tbody>\n",
       "</table>\n",
       "</div>"
      ],
      "text/plain": [
       "   Unnamed: 0                            key          pickup_datetime  \\\n",
       "0         0.0    2010-03-27 02:26:39.0000001  2010-03-27 02:26:39 UTC   \n",
       "1         1.0    2015-02-15 22:41:32.0000003  2015-02-15 22:41:32 UTC   \n",
       "2         2.0  2011-01-14 18:10:00.000000129  2011-01-14 18:10:00 UTC   \n",
       "3         3.0    2011-06-20 14:52:22.0000004  2011-06-20 14:52:22 UTC   \n",
       "4         4.0   2011-10-14 12:20:00.00000051  2011-10-14 12:20:00 UTC   \n",
       "\n",
       "   pickup_longitude  pickup_latitude  dropoff_longitude  dropoff_latitude  \\\n",
       "0        -73.961598        40.716487         -73.960417         40.674963   \n",
       "1        -74.003448        40.733101         -74.008003         40.707214   \n",
       "2        -73.986370        40.747380         -73.975567         40.744572   \n",
       "3        -73.997892        40.724297         -73.977578         40.786941   \n",
       "4        -73.952797        40.780497         -73.955042         40.788527   \n",
       "\n",
       "   passenger_count   dist_km             EDTdate  Hour AMorPM Weekday  \n",
       "0                2  4.618332 2010-03-26 22:26:39    22     pm     Fri  \n",
       "1                1  2.903933 2015-02-15 18:41:32    18     pm     Sun  \n",
       "2                2  0.962144 2011-01-14 14:10:00    14     pm     Fri  \n",
       "3                1  7.172769 2011-06-20 10:52:22    10     am     Mon  \n",
       "4                5  0.912682 2011-10-14 08:20:00     8     am     Fri  "
      ]
     },
     "execution_count": 11,
     "metadata": {},
     "output_type": "execute_result"
    }
   ],
   "source": [
    "df['dist_km'] = haversine_distance(\n",
    "    df,\n",
    "    'pickup_latitude', \n",
    "    'pickup_longitude', \n",
    "    'dropoff_latitude', \n",
    "    'dropoff_longitude'\n",
    ")\n",
    "\n",
    "df.head()"
   ]
  },
  {
   "cell_type": "code",
   "execution_count": 12,
   "metadata": {},
   "outputs": [
    {
     "data": {
      "text/html": [
       "<div>\n",
       "<style scoped>\n",
       "    .dataframe tbody tr th:only-of-type {\n",
       "        vertical-align: middle;\n",
       "    }\n",
       "\n",
       "    .dataframe tbody tr th {\n",
       "        vertical-align: top;\n",
       "    }\n",
       "\n",
       "    .dataframe thead th {\n",
       "        text-align: right;\n",
       "    }\n",
       "</style>\n",
       "<table border=\"1\" class=\"dataframe\">\n",
       "  <thead>\n",
       "    <tr style=\"text-align: right;\">\n",
       "      <th></th>\n",
       "      <th>Unnamed: 0</th>\n",
       "      <th>key</th>\n",
       "      <th>pickup_datetime</th>\n",
       "      <th>pickup_longitude</th>\n",
       "      <th>pickup_latitude</th>\n",
       "      <th>dropoff_longitude</th>\n",
       "      <th>dropoff_latitude</th>\n",
       "      <th>passenger_count</th>\n",
       "      <th>dist_km</th>\n",
       "      <th>EDTdate</th>\n",
       "      <th>Hour</th>\n",
       "      <th>AMorPM</th>\n",
       "      <th>Weekday</th>\n",
       "    </tr>\n",
       "  </thead>\n",
       "  <tbody>\n",
       "    <tr>\n",
       "      <th>0</th>\n",
       "      <td>0.0</td>\n",
       "      <td>2010-03-27 02:26:39.0000001</td>\n",
       "      <td>2010-03-27 02:26:39 UTC</td>\n",
       "      <td>-73.961598</td>\n",
       "      <td>40.716487</td>\n",
       "      <td>-73.960417</td>\n",
       "      <td>40.674963</td>\n",
       "      <td>2</td>\n",
       "      <td>4.618332</td>\n",
       "      <td>2010-03-26 22:26:39</td>\n",
       "      <td>22</td>\n",
       "      <td>pm</td>\n",
       "      <td>Fri</td>\n",
       "    </tr>\n",
       "    <tr>\n",
       "      <th>1</th>\n",
       "      <td>1.0</td>\n",
       "      <td>2015-02-15 22:41:32.0000003</td>\n",
       "      <td>2015-02-15 22:41:32 UTC</td>\n",
       "      <td>-74.003448</td>\n",
       "      <td>40.733101</td>\n",
       "      <td>-74.008003</td>\n",
       "      <td>40.707214</td>\n",
       "      <td>1</td>\n",
       "      <td>2.903933</td>\n",
       "      <td>2015-02-15 18:41:32</td>\n",
       "      <td>18</td>\n",
       "      <td>pm</td>\n",
       "      <td>Sun</td>\n",
       "    </tr>\n",
       "    <tr>\n",
       "      <th>2</th>\n",
       "      <td>2.0</td>\n",
       "      <td>2011-01-14 18:10:00.000000129</td>\n",
       "      <td>2011-01-14 18:10:00 UTC</td>\n",
       "      <td>-73.986370</td>\n",
       "      <td>40.747380</td>\n",
       "      <td>-73.975567</td>\n",
       "      <td>40.744572</td>\n",
       "      <td>2</td>\n",
       "      <td>0.962144</td>\n",
       "      <td>2011-01-14 14:10:00</td>\n",
       "      <td>14</td>\n",
       "      <td>pm</td>\n",
       "      <td>Fri</td>\n",
       "    </tr>\n",
       "    <tr>\n",
       "      <th>3</th>\n",
       "      <td>3.0</td>\n",
       "      <td>2011-06-20 14:52:22.0000004</td>\n",
       "      <td>2011-06-20 14:52:22 UTC</td>\n",
       "      <td>-73.997892</td>\n",
       "      <td>40.724297</td>\n",
       "      <td>-73.977578</td>\n",
       "      <td>40.786941</td>\n",
       "      <td>1</td>\n",
       "      <td>7.172769</td>\n",
       "      <td>2011-06-20 10:52:22</td>\n",
       "      <td>10</td>\n",
       "      <td>am</td>\n",
       "      <td>Mon</td>\n",
       "    </tr>\n",
       "    <tr>\n",
       "      <th>4</th>\n",
       "      <td>4.0</td>\n",
       "      <td>2011-10-14 12:20:00.00000051</td>\n",
       "      <td>2011-10-14 12:20:00 UTC</td>\n",
       "      <td>-73.952797</td>\n",
       "      <td>40.780497</td>\n",
       "      <td>-73.955042</td>\n",
       "      <td>40.788527</td>\n",
       "      <td>5</td>\n",
       "      <td>0.912682</td>\n",
       "      <td>2011-10-14 08:20:00</td>\n",
       "      <td>8</td>\n",
       "      <td>am</td>\n",
       "      <td>Fri</td>\n",
       "    </tr>\n",
       "  </tbody>\n",
       "</table>\n",
       "</div>"
      ],
      "text/plain": [
       "   Unnamed: 0                            key          pickup_datetime  \\\n",
       "0         0.0    2010-03-27 02:26:39.0000001  2010-03-27 02:26:39 UTC   \n",
       "1         1.0    2015-02-15 22:41:32.0000003  2015-02-15 22:41:32 UTC   \n",
       "2         2.0  2011-01-14 18:10:00.000000129  2011-01-14 18:10:00 UTC   \n",
       "3         3.0    2011-06-20 14:52:22.0000004  2011-06-20 14:52:22 UTC   \n",
       "4         4.0   2011-10-14 12:20:00.00000051  2011-10-14 12:20:00 UTC   \n",
       "\n",
       "   pickup_longitude  pickup_latitude  dropoff_longitude  dropoff_latitude  \\\n",
       "0        -73.961598        40.716487         -73.960417         40.674963   \n",
       "1        -74.003448        40.733101         -74.008003         40.707214   \n",
       "2        -73.986370        40.747380         -73.975567         40.744572   \n",
       "3        -73.997892        40.724297         -73.977578         40.786941   \n",
       "4        -73.952797        40.780497         -73.955042         40.788527   \n",
       "\n",
       "   passenger_count   dist_km             EDTdate  Hour AMorPM Weekday  \n",
       "0                2  4.618332 2010-03-26 22:26:39    22     pm     Fri  \n",
       "1                1  2.903933 2015-02-15 18:41:32    18     pm     Sun  \n",
       "2                2  0.962144 2011-01-14 14:10:00    14     pm     Fri  \n",
       "3                1  7.172769 2011-06-20 10:52:22    10     am     Mon  \n",
       "4                5  0.912682 2011-10-14 08:20:00     8     am     Fri  "
      ]
     },
     "execution_count": 12,
     "metadata": {},
     "output_type": "execute_result"
    }
   ],
   "source": [
    "### add a datetime column and derive useful statistics ###\n",
    "\n",
    "df['EDTdate'] = pd.to_datetime(df['pickup_datetime'].str[:19]) - pd.Timedelta(hours=4)\n",
    "df['Hour'] = df['EDTdate'].dt.hour\n",
    "df['AMorPM'] = np.where(df['Hour']<12,'am','pm')\n",
    "df['Weekday'] = df['EDTdate'].dt.strftime(\"%a\")\n",
    "\n",
    "df.head()"
   ]
  },
  {
   "cell_type": "code",
   "execution_count": 13,
   "metadata": {},
   "outputs": [
    {
     "name": "stdout",
     "output_type": "stream",
     "text": [
      "<class 'pandas.core.frame.DataFrame'>\n",
      "Int64Index: 109904 entries, 0 to 9913\n",
      "Data columns (total 13 columns):\n",
      " #   Column             Non-Null Count   Dtype         \n",
      "---  ------             --------------   -----         \n",
      " 0   Unnamed: 0         99990 non-null   float64       \n",
      " 1   key                109904 non-null  object        \n",
      " 2   pickup_datetime    109904 non-null  object        \n",
      " 3   pickup_longitude   109904 non-null  float64       \n",
      " 4   pickup_latitude    109904 non-null  float64       \n",
      " 5   dropoff_longitude  109903 non-null  float64       \n",
      " 6   dropoff_latitude   109903 non-null  float64       \n",
      " 7   passenger_count    109904 non-null  int64         \n",
      " 8   dist_km            109903 non-null  float64       \n",
      " 9   EDTdate            109904 non-null  datetime64[ns]\n",
      " 10  Hour               109904 non-null  int64         \n",
      " 11  AMorPM             109904 non-null  object        \n",
      " 12  Weekday            109904 non-null  object        \n",
      "dtypes: datetime64[ns](1), float64(6), int64(2), object(4)\n",
      "memory usage: 11.7+ MB\n"
     ]
    }
   ],
   "source": [
    "### prepare the model ###\n",
    "\n",
    "### define categorical and continuous columns ###\n",
    "cat_cols = [\n",
    "    'Hour', \n",
    "    'AMorPM', \n",
    "    'Weekday'\n",
    "]\n",
    "\n",
    "cont_cols = [\n",
    "    'pickup_latitude', \n",
    "    'pickup_longitude', \n",
    "    'dropoff_latitude', \n",
    "    'dropoff_longitude', \n",
    "    'passenger_count', \n",
    "    'dist_km'\n",
    "]\n",
    "\n",
    "df.head()"
   ]
  },
  {
   "cell_type": "code",
   "execution_count": 14,
   "metadata": {
    "pycharm": {
     "name": "#%%\n"
    }
   },
   "outputs": [],
   "source": [
    "df.info()"
   ]
  },
  {
   "cell_type": "code",
   "execution_count": 15,
   "metadata": {
    "pycharm": {
     "name": "#%%\n"
    }
   },
   "outputs": [
    {
     "data": {
      "text/html": [
       "<div>\n",
       "<style scoped>\n",
       "    .dataframe tbody tr th:only-of-type {\n",
       "        vertical-align: middle;\n",
       "    }\n",
       "\n",
       "    .dataframe tbody tr th {\n",
       "        vertical-align: top;\n",
       "    }\n",
       "\n",
       "    .dataframe thead th {\n",
       "        text-align: right;\n",
       "    }\n",
       "</style>\n",
       "<table border=\"1\" class=\"dataframe\">\n",
       "  <thead>\n",
       "    <tr style=\"text-align: right;\">\n",
       "      <th></th>\n",
       "      <th>Unnamed: 0</th>\n",
       "      <th>key</th>\n",
       "      <th>pickup_datetime</th>\n",
       "      <th>pickup_longitude</th>\n",
       "      <th>pickup_latitude</th>\n",
       "      <th>dropoff_longitude</th>\n",
       "      <th>dropoff_latitude</th>\n",
       "      <th>passenger_count</th>\n",
       "      <th>dist_km</th>\n",
       "      <th>EDTdate</th>\n",
       "      <th>Hour</th>\n",
       "      <th>AMorPM</th>\n",
       "      <th>Weekday</th>\n",
       "    </tr>\n",
       "  </thead>\n",
       "  <tbody>\n",
       "    <tr>\n",
       "      <th>0</th>\n",
       "      <td>0.0</td>\n",
       "      <td>2010-03-27 02:26:39.0000001</td>\n",
       "      <td>2010-03-27 02:26:39 UTC</td>\n",
       "      <td>-73.961598</td>\n",
       "      <td>40.716487</td>\n",
       "      <td>-73.960417</td>\n",
       "      <td>40.674963</td>\n",
       "      <td>2</td>\n",
       "      <td>4.618332</td>\n",
       "      <td>2010-03-26 22:26:39</td>\n",
       "      <td>22</td>\n",
       "      <td>1</td>\n",
       "      <td>0</td>\n",
       "    </tr>\n",
       "    <tr>\n",
       "      <th>1</th>\n",
       "      <td>1.0</td>\n",
       "      <td>2015-02-15 22:41:32.0000003</td>\n",
       "      <td>2015-02-15 22:41:32 UTC</td>\n",
       "      <td>-74.003448</td>\n",
       "      <td>40.733101</td>\n",
       "      <td>-74.008003</td>\n",
       "      <td>40.707214</td>\n",
       "      <td>1</td>\n",
       "      <td>2.903933</td>\n",
       "      <td>2015-02-15 18:41:32</td>\n",
       "      <td>18</td>\n",
       "      <td>1</td>\n",
       "      <td>3</td>\n",
       "    </tr>\n",
       "    <tr>\n",
       "      <th>2</th>\n",
       "      <td>2.0</td>\n",
       "      <td>2011-01-14 18:10:00.000000129</td>\n",
       "      <td>2011-01-14 18:10:00 UTC</td>\n",
       "      <td>-73.986370</td>\n",
       "      <td>40.747380</td>\n",
       "      <td>-73.975567</td>\n",
       "      <td>40.744572</td>\n",
       "      <td>2</td>\n",
       "      <td>0.962144</td>\n",
       "      <td>2011-01-14 14:10:00</td>\n",
       "      <td>14</td>\n",
       "      <td>1</td>\n",
       "      <td>0</td>\n",
       "    </tr>\n",
       "    <tr>\n",
       "      <th>3</th>\n",
       "      <td>3.0</td>\n",
       "      <td>2011-06-20 14:52:22.0000004</td>\n",
       "      <td>2011-06-20 14:52:22 UTC</td>\n",
       "      <td>-73.997892</td>\n",
       "      <td>40.724297</td>\n",
       "      <td>-73.977578</td>\n",
       "      <td>40.786941</td>\n",
       "      <td>1</td>\n",
       "      <td>7.172769</td>\n",
       "      <td>2011-06-20 10:52:22</td>\n",
       "      <td>10</td>\n",
       "      <td>0</td>\n",
       "      <td>1</td>\n",
       "    </tr>\n",
       "    <tr>\n",
       "      <th>4</th>\n",
       "      <td>4.0</td>\n",
       "      <td>2011-10-14 12:20:00.00000051</td>\n",
       "      <td>2011-10-14 12:20:00 UTC</td>\n",
       "      <td>-73.952797</td>\n",
       "      <td>40.780497</td>\n",
       "      <td>-73.955042</td>\n",
       "      <td>40.788527</td>\n",
       "      <td>5</td>\n",
       "      <td>0.912682</td>\n",
       "      <td>2011-10-14 08:20:00</td>\n",
       "      <td>8</td>\n",
       "      <td>0</td>\n",
       "      <td>0</td>\n",
       "    </tr>\n",
       "  </tbody>\n",
       "</table>\n",
       "</div>"
      ],
      "text/plain": [
       "   Unnamed: 0                            key          pickup_datetime  \\\n",
       "0         0.0    2010-03-27 02:26:39.0000001  2010-03-27 02:26:39 UTC   \n",
       "1         1.0    2015-02-15 22:41:32.0000003  2015-02-15 22:41:32 UTC   \n",
       "2         2.0  2011-01-14 18:10:00.000000129  2011-01-14 18:10:00 UTC   \n",
       "3         3.0    2011-06-20 14:52:22.0000004  2011-06-20 14:52:22 UTC   \n",
       "4         4.0   2011-10-14 12:20:00.00000051  2011-10-14 12:20:00 UTC   \n",
       "\n",
       "   pickup_longitude  pickup_latitude  dropoff_longitude  dropoff_latitude  \\\n",
       "0        -73.961598        40.716487         -73.960417         40.674963   \n",
       "1        -74.003448        40.733101         -74.008003         40.707214   \n",
       "2        -73.986370        40.747380         -73.975567         40.744572   \n",
       "3        -73.997892        40.724297         -73.977578         40.786941   \n",
       "4        -73.952797        40.780497         -73.955042         40.788527   \n",
       "\n",
       "   passenger_count   dist_km             EDTdate Hour AMorPM Weekday  \n",
       "0                2  4.618332 2010-03-26 22:26:39   22      1       0  \n",
       "1                1  2.903933 2015-02-15 18:41:32   18      1       3  \n",
       "2                2  0.962144 2011-01-14 14:10:00   14      1       0  \n",
       "3                1  7.172769 2011-06-20 10:52:22   10      0       1  \n",
       "4                5  0.912682 2011-10-14 08:20:00    8      0       0  "
      ]
     },
     "execution_count": 15,
     "metadata": {},
     "output_type": "execute_result"
    }
   ],
   "source": [
    "#make the cat categories as \"category\" and label encoder it\n",
    "from sklearn import preprocessing\n",
    "\n",
    "for col in df.columns:\n",
    "  if col in cat_cols:\n",
    "    df[col] = preprocessing.LabelEncoder().fit_transform(df[col])\n",
    "    df[col]= df[col].astype('category')"
   ]
  },
  {
   "cell_type": "code",
   "execution_count": 16,
   "metadata": {
    "pycharm": {
     "name": "#%%\n"
    }
   },
   "outputs": [
    {
     "name": "stdout",
     "output_type": "stream",
     "text": [
      "<class 'pandas.core.frame.DataFrame'>\n",
      "Int64Index: 109904 entries, 0 to 9913\n",
      "Data columns (total 13 columns):\n",
      " #   Column             Non-Null Count   Dtype         \n",
      "---  ------             --------------   -----         \n",
      " 0   Unnamed: 0         99990 non-null   float64       \n",
      " 1   key                109904 non-null  object        \n",
      " 2   pickup_datetime    109904 non-null  object        \n",
      " 3   pickup_longitude   109904 non-null  float64       \n",
      " 4   pickup_latitude    109904 non-null  float64       \n",
      " 5   dropoff_longitude  109903 non-null  float64       \n",
      " 6   dropoff_latitude   109903 non-null  float64       \n",
      " 7   passenger_count    109904 non-null  int64         \n",
      " 8   dist_km            109903 non-null  float64       \n",
      " 9   EDTdate            109904 non-null  datetime64[ns]\n",
      " 10  Hour               109904 non-null  category      \n",
      " 11  AMorPM             109904 non-null  category      \n",
      " 12  Weekday            109904 non-null  category      \n",
      "dtypes: category(3), datetime64[ns](1), float64(6), int64(1), object(2)\n",
      "memory usage: 9.5+ MB\n"
     ]
    }
   ],
   "source": [
    "df.head()"
   ]
  },
  {
   "cell_type": "code",
   "execution_count": 17,
   "metadata": {
    "pycharm": {
     "name": "#%%\n"
    }
   },
   "outputs": [
    {
     "data": {
      "text/plain": [
       "Index(['Unnamed: 0', 'key', 'pickup_datetime', 'pickup_longitude',\n",
       "       'pickup_latitude', 'dropoff_longitude', 'dropoff_latitude',\n",
       "       'passenger_count', 'dist_km', 'EDTdate', 'Hour', 'AMorPM', 'Weekday'],\n",
       "      dtype='object')"
      ]
     },
     "execution_count": 17,
     "metadata": {},
     "output_type": "execute_result"
    }
   ],
   "source": [
    "df.info()"
   ]
  },
  {
   "cell_type": "code",
   "execution_count": 18,
   "metadata": {
    "pycharm": {
     "name": "#%%\n"
    }
   },
   "outputs": [],
   "source": [
    "### take the relevent columns for the model and split back to train and test ###\n",
    "df.columns"
   ]
  },
  {
   "cell_type": "code",
   "execution_count": 19,
   "metadata": {
    "pycharm": {
     "name": "#%%\n"
    }
   },
   "outputs": [
    {
     "name": "stderr",
     "output_type": "stream",
     "text": [
      "<ipython-input-19-adfa01358160>:20: SettingWithCopyWarning: \n",
      "A value is trying to be set on a copy of a slice from a DataFrame.\n",
      "Try using .loc[row_indexer,col_indexer] = value instead\n",
      "\n",
      "See the caveats in the documentation: https://pandas.pydata.org/pandas-docs/stable/user_guide/indexing.html#returning-a-view-versus-a-copy\n",
      "  df[n] = (df[n]-means[n]) / (1e-7 + stds[n])\n"
     ]
    }
   ],
   "source": [
    "# keep only the cols for the model\n",
    "df = df[\n",
    "    [\n",
    "        'Hour', \n",
    "        'AMorPM', \n",
    "        'Weekday',\n",
    "        'pickup_latitude', \n",
    "        'pickup_longitude', \n",
    "        'dropoff_latitude', \n",
    "        'dropoff_longitude', \n",
    "        'passenger_count', \n",
    "        'dist_km'\n",
    "    ]\n",
    "]\n",
    "\n",
    "df_train = df[:99994]\n",
    "df_test = df[99994:]"
   ]
  },
  {
   "cell_type": "code",
   "execution_count": 20,
   "metadata": {
    "pycharm": {
     "name": "#%%\n"
    }
   },
   "outputs": [
    {
     "data": {
      "text/html": [
       "<div>\n",
       "<style scoped>\n",
       "    .dataframe tbody tr th:only-of-type {\n",
       "        vertical-align: middle;\n",
       "    }\n",
       "\n",
       "    .dataframe tbody tr th {\n",
       "        vertical-align: top;\n",
       "    }\n",
       "\n",
       "    .dataframe thead th {\n",
       "        text-align: right;\n",
       "    }\n",
       "</style>\n",
       "<table border=\"1\" class=\"dataframe\">\n",
       "  <thead>\n",
       "    <tr style=\"text-align: right;\">\n",
       "      <th></th>\n",
       "      <th>Hour</th>\n",
       "      <th>AMorPM</th>\n",
       "      <th>Weekday</th>\n",
       "      <th>pickup_latitude</th>\n",
       "      <th>pickup_longitude</th>\n",
       "      <th>dropoff_latitude</th>\n",
       "      <th>dropoff_longitude</th>\n",
       "      <th>passenger_count</th>\n",
       "      <th>dist_km</th>\n",
       "    </tr>\n",
       "  </thead>\n",
       "  <tbody>\n",
       "    <tr>\n",
       "      <th>0</th>\n",
       "      <td>22</td>\n",
       "      <td>1</td>\n",
       "      <td>0</td>\n",
       "      <td>0.126016</td>\n",
       "      <td>-0.133438</td>\n",
       "      <td>0.125627</td>\n",
       "      <td>-0.141685</td>\n",
       "      <td>0.246944</td>\n",
       "      <td>-0.040350</td>\n",
       "    </tr>\n",
       "    <tr>\n",
       "      <th>1</th>\n",
       "      <td>18</td>\n",
       "      <td>1</td>\n",
       "      <td>3</td>\n",
       "      <td>0.128596</td>\n",
       "      <td>-0.137225</td>\n",
       "      <td>0.130781</td>\n",
       "      <td>-0.146169</td>\n",
       "      <td>-0.522203</td>\n",
       "      <td>-0.045066</td>\n",
       "    </tr>\n",
       "    <tr>\n",
       "      <th>2</th>\n",
       "      <td>14</td>\n",
       "      <td>1</td>\n",
       "      <td>0</td>\n",
       "      <td>0.130813</td>\n",
       "      <td>-0.135680</td>\n",
       "      <td>0.136751</td>\n",
       "      <td>-0.143113</td>\n",
       "      <td>0.246944</td>\n",
       "      <td>-0.050408</td>\n",
       "    </tr>\n",
       "    <tr>\n",
       "      <th>3</th>\n",
       "      <td>10</td>\n",
       "      <td>0</td>\n",
       "      <td>1</td>\n",
       "      <td>0.127229</td>\n",
       "      <td>-0.136722</td>\n",
       "      <td>0.143521</td>\n",
       "      <td>-0.143302</td>\n",
       "      <td>-0.522203</td>\n",
       "      <td>-0.033323</td>\n",
       "    </tr>\n",
       "    <tr>\n",
       "      <th>4</th>\n",
       "      <td>8</td>\n",
       "      <td>0</td>\n",
       "      <td>0</td>\n",
       "      <td>0.135955</td>\n",
       "      <td>-0.132642</td>\n",
       "      <td>0.143775</td>\n",
       "      <td>-0.141179</td>\n",
       "      <td>2.554387</td>\n",
       "      <td>-0.050544</td>\n",
       "    </tr>\n",
       "  </tbody>\n",
       "</table>\n",
       "</div>"
      ],
      "text/plain": [
       "  Hour AMorPM Weekday  pickup_latitude  pickup_longitude  dropoff_latitude  \\\n",
       "0   22      1       0         0.126016         -0.133438          0.125627   \n",
       "1   18      1       3         0.128596         -0.137225          0.130781   \n",
       "2   14      1       0         0.130813         -0.135680          0.136751   \n",
       "3   10      0       1         0.127229         -0.136722          0.143521   \n",
       "4    8      0       0         0.135955         -0.132642          0.143775   \n",
       "\n",
       "   dropoff_longitude  passenger_count   dist_km  \n",
       "0          -0.141685         0.246944 -0.040350  \n",
       "1          -0.146169        -0.522203 -0.045066  \n",
       "2          -0.143113         0.246944 -0.050408  \n",
       "3          -0.143302        -0.522203 -0.033323  \n",
       "4          -0.141179         2.554387 -0.050544  "
      ]
     },
     "execution_count": 20,
     "metadata": {},
     "output_type": "execute_result"
    }
   ],
   "source": [
    "### continuous values ###\n",
    "\n",
    "from pandas.api.types import is_numeric_dtype\n",
    "\n",
    "# Compute the means and stds of `self.cont_names` columns to normalize them\n",
    "def Normalize(df):\n",
    "  means, stds = {}, {}\n",
    "  cont_names = [\n",
    "      'pickup_latitude', \n",
    "      'pickup_longitude', \n",
    "      'dropoff_latitude', \n",
    "      'dropoff_longitude', \n",
    "      'passenger_count', \n",
    "      'dist_km'\n",
    "  ]\n",
    "  \n",
    "  for n in cont_names:\n",
    "    assert is_numeric_dtype(df[n]), (f\"\"\"Cannot normalize '{n}' column as it isn't numerical. Are you sure it doesn't belong in the categorical set of columns?\"\"\")\n",
    "    means[n],stds[n] = df[n].mean(),df[n].std()\n",
    "    df[n] = (df[n]-means[n]) / (1e-7 + stds[n])\n",
    "\n",
    "\n",
    "Normalize(df_train)\n",
    "Normalize(df_test)\n",
    "X = df_train"
   ]
  },
  {
   "cell_type": "code",
   "execution_count": 26,
   "metadata": {
    "pycharm": {
     "name": "#%%\n"
    }
   },
   "outputs": [
    {
     "data": {
      "text/plain": [
       "(99990, 9)"
      ]
     },
     "execution_count": 26,
     "metadata": {},
     "output_type": "execute_result"
    }
   ],
   "source": [
    "df_train.head()"
   ]
  },
  {
   "cell_type": "code",
   "execution_count": 27,
   "metadata": {
    "pycharm": {
     "name": "#%%\n"
    }
   },
   "outputs": [
    {
     "name": "stdout",
     "output_type": "stream",
     "text": [
      "<class 'pandas.core.frame.DataFrame'>\n",
      "Int64Index: 99990 entries, 0 to 99999\n",
      "Data columns (total 9 columns):\n",
      " #   Column             Non-Null Count  Dtype   \n",
      "---  ------             --------------  -----   \n",
      " 0   Hour               99990 non-null  category\n",
      " 1   AMorPM             99990 non-null  category\n",
      " 2   Weekday            99990 non-null  category\n",
      " 3   pickup_latitude    99990 non-null  float64 \n",
      " 4   pickup_longitude   99990 non-null  float64 \n",
      " 5   dropoff_latitude   99989 non-null  float64 \n",
      " 6   dropoff_longitude  99989 non-null  float64 \n",
      " 7   passenger_count    99990 non-null  float64 \n",
      " 8   dist_km            99989 non-null  float64 \n",
      "dtypes: category(3), float64(6)\n",
      "memory usage: 5.6 MB\n"
     ]
    }
   ],
   "source": [
    "X.shape"
   ]
  },
  {
   "cell_type": "code",
   "execution_count": 28,
   "metadata": {
    "pycharm": {
     "name": "#%%\n"
    }
   },
   "outputs": [
    {
     "data": {
      "text/html": [
       "<div>\n",
       "<style scoped>\n",
       "    .dataframe tbody tr th:only-of-type {\n",
       "        vertical-align: middle;\n",
       "    }\n",
       "\n",
       "    .dataframe tbody tr th {\n",
       "        vertical-align: top;\n",
       "    }\n",
       "\n",
       "    .dataframe thead th {\n",
       "        text-align: right;\n",
       "    }\n",
       "</style>\n",
       "<table border=\"1\" class=\"dataframe\">\n",
       "  <thead>\n",
       "    <tr style=\"text-align: right;\">\n",
       "      <th></th>\n",
       "      <th>Hour</th>\n",
       "      <th>AMorPM</th>\n",
       "      <th>Weekday</th>\n",
       "      <th>pickup_latitude</th>\n",
       "      <th>pickup_longitude</th>\n",
       "      <th>dropoff_latitude</th>\n",
       "      <th>dropoff_longitude</th>\n",
       "      <th>passenger_count</th>\n",
       "      <th>dist_km</th>\n",
       "    </tr>\n",
       "  </thead>\n",
       "  <tbody>\n",
       "    <tr>\n",
       "      <th>58526</th>\n",
       "      <td>16</td>\n",
       "      <td>1</td>\n",
       "      <td>2</td>\n",
       "      <td>0.135145</td>\n",
       "      <td>-0.132729</td>\n",
       "      <td>0.135762</td>\n",
       "      <td>-0.143564</td>\n",
       "      <td>1.016092</td>\n",
       "      <td>-0.040195</td>\n",
       "    </tr>\n",
       "    <tr>\n",
       "      <th>38241</th>\n",
       "      <td>23</td>\n",
       "      <td>1</td>\n",
       "      <td>2</td>\n",
       "      <td>0.129786</td>\n",
       "      <td>-0.137378</td>\n",
       "      <td>0.132194</td>\n",
       "      <td>-0.134693</td>\n",
       "      <td>-0.522203</td>\n",
       "      <td>-0.024467</td>\n",
       "    </tr>\n",
       "    <tr>\n",
       "      <th>3806</th>\n",
       "      <td>23</td>\n",
       "      <td>1</td>\n",
       "      <td>4</td>\n",
       "      <td>0.129665</td>\n",
       "      <td>-0.137380</td>\n",
       "      <td>0.131407</td>\n",
       "      <td>-0.140626</td>\n",
       "      <td>-0.522203</td>\n",
       "      <td>-0.037359</td>\n",
       "    </tr>\n",
       "    <tr>\n",
       "      <th>27927</th>\n",
       "      <td>17</td>\n",
       "      <td>1</td>\n",
       "      <td>3</td>\n",
       "      <td>0.135288</td>\n",
       "      <td>-0.132924</td>\n",
       "      <td>0.143298</td>\n",
       "      <td>-0.141282</td>\n",
       "      <td>-0.522203</td>\n",
       "      <td>-0.050197</td>\n",
       "    </tr>\n",
       "    <tr>\n",
       "      <th>6006</th>\n",
       "      <td>19</td>\n",
       "      <td>1</td>\n",
       "      <td>2</td>\n",
       "      <td>0.133024</td>\n",
       "      <td>-0.135374</td>\n",
       "      <td>0.153770</td>\n",
       "      <td>-0.139646</td>\n",
       "      <td>-0.522203</td>\n",
       "      <td>-0.023840</td>\n",
       "    </tr>\n",
       "  </tbody>\n",
       "</table>\n",
       "</div>"
      ],
      "text/plain": [
       "      Hour AMorPM Weekday  pickup_latitude  pickup_longitude  \\\n",
       "58526   16      1       2         0.135145         -0.132729   \n",
       "38241   23      1       2         0.129786         -0.137378   \n",
       "3806    23      1       4         0.129665         -0.137380   \n",
       "27927   17      1       3         0.135288         -0.132924   \n",
       "6006    19      1       2         0.133024         -0.135374   \n",
       "\n",
       "       dropoff_latitude  dropoff_longitude  passenger_count   dist_km  \n",
       "58526          0.135762          -0.143564         1.016092 -0.040195  \n",
       "38241          0.132194          -0.134693        -0.522203 -0.024467  \n",
       "3806           0.131407          -0.140626        -0.522203 -0.037359  \n",
       "27927          0.143298          -0.141282        -0.522203 -0.050197  \n",
       "6006           0.153770          -0.139646        -0.522203 -0.023840  "
      ]
     },
     "execution_count": 28,
     "metadata": {},
     "output_type": "execute_result"
    }
   ],
   "source": [
    "X.info()"
   ]
  },
  {
   "cell_type": "code",
   "execution_count": 29,
   "metadata": {},
   "outputs": [
    {
     "data": {
      "text/plain": [
       "[(24, 12), (2, 1), (7, 4)]"
      ]
     },
     "execution_count": 29,
     "metadata": {},
     "output_type": "execute_result"
    }
   ],
   "source": [
    "### train-valid split ###\n",
    "from sklearn import model_selection\n",
    "\n",
    "X_train, X_val, y_train, y_val = model_selection.train_test_split(\n",
    "    X, Y, test_size=0.20, random_state=42, shuffle=True\n",
    ") \n",
    "\n",
    "X_train.head()"
   ]
  },
  {
   "cell_type": "code",
   "execution_count": 30,
   "metadata": {},
   "outputs": [
    {
     "data": {
      "text/plain": [
       "list"
      ]
     },
     "execution_count": 30,
     "metadata": {},
     "output_type": "execute_result"
    }
   ],
   "source": [
    "### embeddings ###\n",
    "cat_szs = [len(df[col].cat.categories) for col in cat_cols]\n",
    "emb_szs = [(size, min(50, (size+1)//2)) for size in cat_szs]\n",
    "emb_szs"
   ]
  },
  {
   "cell_type": "code",
   "execution_count": 31,
   "metadata": {},
   "outputs": [
    {
     "data": {
      "text/plain": [
       "(79992, 9)"
      ]
     },
     "execution_count": 31,
     "metadata": {},
     "output_type": "execute_result"
    }
   ],
   "source": [
    "type(emb_szs)"
   ]
  },
  {
   "cell_type": "code",
   "execution_count": 32,
   "metadata": {},
   "outputs": [
    {
     "data": {
      "text/plain": [
       "(19998, 9)"
      ]
     },
     "execution_count": 32,
     "metadata": {},
     "output_type": "execute_result"
    }
   ],
   "source": [
    "X_train.shape"
   ]
  },
  {
   "cell_type": "code",
   "execution_count": 33,
   "metadata": {},
   "outputs": [
    {
     "data": {
      "text/plain": [
       "(79992,)"
      ]
     },
     "execution_count": 33,
     "metadata": {},
     "output_type": "execute_result"
    }
   ],
   "source": [
    "X_val.shape"
   ]
  },
  {
   "cell_type": "code",
   "execution_count": 34,
   "metadata": {},
   "outputs": [
    {
     "data": {
      "text/plain": [
       "(19998,)"
      ]
     },
     "execution_count": 34,
     "metadata": {},
     "output_type": "execute_result"
    }
   ],
   "source": [
    "y_train.shape"
   ]
  },
  {
   "cell_type": "code",
   "execution_count": 37,
   "metadata": {},
   "outputs": [],
   "source": [
    "y_val.shape"
   ]
  },
  {
   "cell_type": "code",
   "execution_count": 38,
   "metadata": {},
   "outputs": [],
   "source": [
    "### model ###\n",
    "from torch.utils.data import Dataset, DataLoader\n",
    "\n",
    "class RegressionColumnarDataset(Dataset):\n",
    "    def __init__(self, df, cats, y):\n",
    "        self.dfcats = df[cats]\n",
    "        self.dfconts = df.drop(cats, axis=1)\n",
    "        self.cats = np.stack([c.values for n, c in self.dfcats.items()], axis=1).astype(np.int64)\n",
    "        self.conts = np.stack([c.values for n, c in self.dfconts.items()], axis=1).astype(np.float32)\n",
    "        self.y = y.values.astype(np.float32)\n",
    "        \n",
    "    def __len__(self):\n",
    "        return len(self.y)\n",
    "\n",
    "    def __getitem__(self, idx):\n",
    "        return [self.cats[idx], self.conts[idx], self.y[idx]]\n"
   ]
  },
  {
   "cell_type": "code",
   "execution_count": 39,
   "metadata": {},
   "outputs": [],
   "source": [
    "trainds = RegressionColumnarDataset(X_train, cat_cols, y_train) \n",
    "valds = RegressionColumnarDataset(X_val, cat_cols, y_val) \n"
   ]
  },
  {
   "cell_type": "code",
   "execution_count": 41,
   "metadata": {},
   "outputs": [],
   "source": [
    "params = {\n",
    "    'batch_size': 128,\n",
    "    'shuffle': True\n",
    "}\n",
    "\n",
    "traindl = DataLoader(trainds, **params)\n",
    "valdl = DataLoader(valds, **params)"
   ]
  },
  {
   "cell_type": "code",
   "execution_count": 42,
   "metadata": {},
   "outputs": [
    {
     "data": {
      "text/plain": [
       "(0, 312.264)"
      ]
     },
     "execution_count": 42,
     "metadata": {},
     "output_type": "execute_result"
    }
   ],
   "source": [
    "### tabular model ###\n",
    "import torch\n",
    "import torch.nn as nn\n",
    "\n",
    "torch.manual_seed(33)\n",
    "\n",
    "from collections.abc import Iterable\n",
    "\n",
    "\n",
    "def bn_drop_lin(n_in:int, n_out:int, bn:bool=True, p:float=0., actn=None):\n",
    "    \"Sequence of batchnorm (if `bn`), dropout (with `p`) and linear (`n_in`,`n_out`) layers followed by `actn`.\"\n",
    "    layers = [nn.BatchNorm1d(n_in)] if bn else []\n",
    "    if p != 0: layers.append(nn.Dropout(p))\n",
    "    layers.append(nn.Linear(n_in, n_out))\n",
    "    if actn is not None: layers.append(actn)\n",
    "    return layers\n",
    "\n",
    "def ifnone(a,b):\n",
    "    \"`a` if `a` is not None, otherwise `b`.\"\n",
    "    return b if a is None else a\n",
    "\n",
    "def listify(p, q):\n",
    "    \"Make `p` listy and the same length as `q`.\"\n",
    "    if p is None: p=[]\n",
    "    elif isinstance(p, str):          p = [p]\n",
    "    elif not isinstance(p, Iterable): p = [p]\n",
    "    #Rank 0 tensors in PyTorch are Iterable but don't have a length.\n",
    "    else:\n",
    "        try: a = len(p)\n",
    "        except: p = [p]\n",
    "    n = q if type(q)==int else len(p) if q is None else len(q)\n",
    "    if len(p)==1: p = p * n\n",
    "    assert len(p)==n, f'List len mismatch ({len(p)} vs {n})'\n",
    "    return list(p)\n",
    "\n",
    "              \n",
    "\n",
    "class TabularModel(nn.Module):\n",
    "    \"Basic model for tabular data.\"\n",
    "    def __init__(self, emb_szs, n_cont:int, out_sz:int, layers, ps=None,\n",
    "                 emb_drop:float=0., y_range=None, use_bn:bool=True, bn_final:bool=False):\n",
    "        super().__init__()\n",
    "        ps = ifnone(ps, [0]*len(layers))\n",
    "        ps = listify(ps, layers)\n",
    "        self.embeds = nn.ModuleList([nn.Embedding(ni, nf) for ni,nf in emb_szs]) #type: torch.nn.modules.container.ModuleList\n",
    "        self.emb_drop = nn.Dropout(emb_drop) #type: torch.nn.modules.dropout.Dropout\n",
    "        self.bn_cont = nn.BatchNorm1d(n_cont) #type torch.nn.modules.batchnorm.BatchNorm1d\n",
    "        n_emb = sum(e.embedding_dim for e in self.embeds) # n_emb = 17 , type: int\n",
    "        self.n_emb,self.n_cont,self.y_range = n_emb,n_cont,y_range\n",
    "        sizes = [n_emb + n_cont] + layers + [out_sz] #typeL list, len: 4\n",
    "        actns = [nn.ReLU(inplace=True) for _ in range(len(sizes)-2)] + [None] #type: list, len: 3.  the last in None because we finish with linear\n",
    "        layers = []\n",
    "        for i,(n_in,n_out,dp,act) in enumerate(zip(sizes[:-1],sizes[1:],[0.]+ps,actns)):\n",
    "            layers += bn_drop_lin(n_in, n_out, bn=use_bn and i!=0, p=dp, actn=act)\n",
    "        if bn_final: layers.append(nn.BatchNorm1d(sizes[-1]))\n",
    "        self.layers = nn.Sequential(*layers) #type: torch.nn.modules.container.Sequential\n",
    "        \n",
    "\n",
    "\n",
    "\n",
    "    def forward(self, x_cat, x_cont):\n",
    "        if self.n_emb != 0:\n",
    "            x = [e(x_cat[:,i]) for i,e in enumerate(self.embeds)] #take the embedding list and grab an embedding and pass in our single row of data.        \n",
    "            x = torch.cat(x, 1) # concatenate it on dim 1 ## remeber that the len is the batch size\n",
    "            x = self.emb_drop(x) # pass it through a dropout layer\n",
    "        if self.n_cont != 0:\n",
    "            x_cont = self.bn_cont(x_cont) # batchnorm1d\n",
    "            x = torch.cat([x, x_cont], 1) if self.n_emb != 0 else x_cont # combine the categircal and continous variables on dim 1\n",
    "        x = self.layers(x)\n",
    "        if self.y_range is not None:\n",
    "            x = (self.y_range[1]-self.y_range[0]) * torch.sigmoid(x) + self.y_range[0] # deal with y_range\n",
    "        return x.squeeze()\n",
    "    "
   ]
  },
  {
   "cell_type": "code",
   "execution_count": 44,
   "metadata": {},
   "outputs": [
    {
     "data": {
      "text/plain": [
       "device(type='cpu')"
      ]
     },
     "execution_count": 44,
     "metadata": {},
     "output_type": "execute_result"
    }
   ],
   "source": [
    "y_range = (0, y_train.max()*1.2)\n",
    "y_range"
   ]
  },
  {
   "cell_type": "code",
   "execution_count": null,
   "outputs": [],
   "source": [
    "device = torch.device(\"cuda:0\" if torch.cuda.is_available() else \"cpu\")\n",
    "device"
   ],
   "metadata": {
    "collapsed": false,
    "pycharm": {
     "name": "#%%\n"
    }
   }
  },
  {
   "cell_type": "code",
   "execution_count": null,
   "outputs": [],
   "source": [
    "model = TabularModel(emb_szs = emb_szs,n_cont = len(cont_cols),out_sz = 1,layers = [1000,500,250],ps= [0.001,0.01,0.01],emb_drop=0.04, y_range=y_range).to(device)\n",
    "model"
   ],
   "metadata": {
    "collapsed": false,
    "pycharm": {
     "name": "#%%\n"
    }
   }
  },
  {
   "cell_type": "code",
   "execution_count": null,
   "outputs": [],
   "source": [
    "### optimizer ###\n",
    "\n",
    "from collections import defaultdict\n",
    "\n",
    "opt = torch.optim.Adam(model.parameters(), lr=1e-2) # can add: weight_decay=\n",
    "#lr_cosine = lr_scheduler.CosineAnnealingLR(opt,T_max = 350) #1000 ## if you want to add lr_cosine\n",
    "\n",
    "lr = defaultdict(list)\n",
    "tloss = defaultdict(list)\n",
    "vloss = defaultdict(list)"
   ],
   "metadata": {
    "collapsed": false,
    "pycharm": {
     "name": "#%%\n"
    }
   }
  },
  {
   "cell_type": "code",
   "execution_count": null,
   "outputs": [],
   "source": [
    "### train and fit ###\n",
    "\n",
    "from tqdm import tqdm, tqdm_notebook, tnrange\n",
    "from sklearn import metrics\n",
    "\n",
    "def inv_y(y):\n",
    "    return np.exp(y)\n",
    "\n",
    "def rmse(targ, y_pred):\n",
    "    return np.sqrt(metrics.mean_squared_error(inv_y(y_pred), inv_y(targ))) #.detach().numpy()\n",
    "    \n",
    "\n",
    "def rmse(targ, y_pred):\n",
    "   return np.sqrt(metrics.mean_squared_error(y_pred, targ)) #.detach().numpy()\n",
    "\n",
    "\n",
    "\n",
    "#def fit(model, train_dl, val_dl, loss_fn, opt, scheduler, epochs=3): ## if you want to add schedular\n",
    "def fit(model, train_dl, val_dl, loss_fn, opt, epochs=3):\n",
    "    num_batch = len(train_dl)\n",
    "    for epoch in tnrange(epochs):      \n",
    "        y_true_train = list()\n",
    "        y_pred_train = list()\n",
    "        total_loss_train = 0          \n",
    "        \n",
    "        t = tqdm_notebook(iter(train_dl), leave=False, total=num_batch)\n",
    "        for cat, cont, y in t:\n",
    "            cat = cat.cpu()\n",
    "            cont = cont.cpu()\n",
    "            y = y.cpu()\n",
    "            \n",
    "            t.set_description(f'Epoch {epoch}')\n",
    "            \n",
    "            opt.zero_grad() #find where the grads are zero\n",
    "            pred = model(cat, cont)\n",
    "            loss = loss_fn(pred, y)\n",
    "            \n",
    "            loss.backward() # do backprop\n",
    "            lr[epoch].append(opt.param_groups[0]['lr'])\n",
    "            tloss[epoch].append(loss.item())\n",
    "            opt.step()\n",
    "            #scheduler.step()\n",
    "            \n",
    "            \n",
    "            t.set_postfix(loss=loss.item())\n",
    "            \n",
    "            y_true_train += list(y.cpu().data.numpy())\n",
    "            y_pred_train += list(pred.cpu().data.numpy())\n",
    "            total_loss_train += loss.item()\n",
    "            \n",
    "        train_acc = rmse(y_true_train, y_pred_train)\n",
    "        train_loss = total_loss_train/len(train_dl) # len train_dl = 704. the calc is number of train examples (89991) / batch size (128)\n",
    "        \n",
    "        if val_dl:\n",
    "            y_true_val = list()\n",
    "            y_pred_val = list()\n",
    "            total_loss_val = 0\n",
    "            for cat, cont, y in tqdm_notebook(val_dl, leave=False):\n",
    "                cat = cat.cpu()\n",
    "                cont = cont.cpu()\n",
    "                y = y.cpu()\n",
    "                pred = model(cat, cont)\n",
    "                loss = loss_fn(pred, y)\n",
    "                \n",
    "                y_true_val += list(y.cpu().data.numpy())\n",
    "                y_pred_val += list(pred.cpu().data.numpy())\n",
    "                total_loss_val += loss.item()\n",
    "                vloss[epoch].append(loss.item())\n",
    "            valacc = rmse(y_true_val, y_pred_val)\n",
    "            valloss = total_loss_val/len(valdl)\n",
    "            print(f'Epoch {epoch}: train_loss: {train_loss:.4f} train_rmse: {train_acc:.4f} | val_loss: {valloss:.4f} val_rmse: {valacc:.4f}')\n",
    "        else:\n",
    "            print(f'Epoch {epoch}: train_loss: {train_loss:.4f} train_rmse: {train_acc:.4f}')\n",
    "    \n",
    "    return lr, tloss, vloss\n"
   ],
   "metadata": {
    "collapsed": false,
    "pycharm": {
     "name": "#%%\n"
    }
   }
  },
  {
   "cell_type": "code",
   "execution_count": 45,
   "metadata": {},
   "outputs": [
    {
     "data": {
      "text/plain": [
       "TabularModel(\n",
       "  (embeds): ModuleList(\n",
       "    (0): Embedding(24, 12)\n",
       "    (1): Embedding(2, 1)\n",
       "    (2): Embedding(7, 4)\n",
       "  )\n",
       "  (emb_drop): Dropout(p=0.04, inplace=False)\n",
       "  (bn_cont): BatchNorm1d(6, eps=1e-05, momentum=0.1, affine=True, track_running_stats=True)\n",
       "  (layers): Sequential(\n",
       "    (0): Linear(in_features=23, out_features=1000, bias=True)\n",
       "    (1): ReLU(inplace=True)\n",
       "    (2): BatchNorm1d(1000, eps=1e-05, momentum=0.1, affine=True, track_running_stats=True)\n",
       "    (3): Dropout(p=0.001, inplace=False)\n",
       "    (4): Linear(in_features=1000, out_features=500, bias=True)\n",
       "    (5): ReLU(inplace=True)\n",
       "    (6): BatchNorm1d(500, eps=1e-05, momentum=0.1, affine=True, track_running_stats=True)\n",
       "    (7): Dropout(p=0.01, inplace=False)\n",
       "    (8): Linear(in_features=500, out_features=250, bias=True)\n",
       "    (9): ReLU(inplace=True)\n",
       "    (10): BatchNorm1d(250, eps=1e-05, momentum=0.1, affine=True, track_running_stats=True)\n",
       "    (11): Dropout(p=0.01, inplace=False)\n",
       "    (12): Linear(in_features=250, out_features=1, bias=True)\n",
       "  )\n",
       ")"
      ]
     },
     "execution_count": 45,
     "metadata": {},
     "output_type": "execute_result"
    }
   ],
   "source": [
    "### train the model ###\n",
    "\n",
    "#lr, tloss, vloss = fit(model=model, train_dl=traindl, val_dl=valdl, loss_fn=nn.MSELoss(), opt=opt, scheduler=lr_cosine, epochs=10)\n",
    "\n",
    "\n",
    "lr, tloss, vloss = fit(\n",
    "    model=model, \n",
    "    train_dl=traindl, \n",
    "    val_dl=valdl, \n",
    "    loss_fn=nn.MSELoss(), \n",
    "    opt=opt,  \n",
    "    epochs=10\n",
    ")\n"
   ]
  },
  {
   "cell_type": "code",
   "execution_count": 46,
   "metadata": {},
   "outputs": [],
   "source": [
    "### plots ###\n",
    "#Plot the Learning rate\n",
    "\n",
    "import matplotlib.pyplot as plt\n",
    "\n",
    "_ = plt.plot(lr[0])\n",
    "_ = plt.title('LR over Epoch (Epoch 0)')"
   ]
  },
  {
   "cell_type": "code",
   "execution_count": 57,
   "metadata": {},
   "outputs": [],
   "source": [
    "#inspired from: https://nbviewer.jupyter.org/github/FraPochetti/KagglePlaygrounds/blob/master/NYC%20Taxi%20Fares%20Prediction.ipynb \n",
    "# Train VS Validaton Loss\n",
    "\n",
    "t = [np.mean(tloss[el]) for el in tloss]\n",
    "v = [np.mean(vloss[el]) for el in vloss]\n",
    "\n",
    "plt.plot(t, label='Training loss')\n",
    "plt.plot(v, label='Validation loss')\n",
    "plt.title(\"Train VS Validation Loss over Epochs\")\n",
    "plt.xlabel(\"Epochs\")\n",
    "plt.legend(frameon=False)"
   ]
  },
  {
   "cell_type": "code",
   "execution_count": null,
   "outputs": [],
   "source": [
    "### test ###\n",
    "df_test.info()"
   ],
   "metadata": {
    "collapsed": false,
    "pycharm": {
     "name": "#%%\n"
    }
   }
  },
  {
   "cell_type": "code",
   "execution_count": null,
   "outputs": [],
   "source": [
    "# divide to cats and conts columns + make them a tensor + to.cuda()\n",
    "\n",
    "df_test_cats = df_test[['Hour', 'AMorPM', 'Weekday']]\n",
    "test_cats = df_test_cats.astype(np.int64)\n",
    "test_cats = torch.tensor(test_cats.values).cpu()\n",
    "\n",
    "df_test_conts = df_test[['pickup_latitude', 'pickup_longitude', 'dropoff_latitude', 'dropoff_longitude', 'passenger_count', 'dist_km']]\n",
    "test_conts = df_test_conts.astype(np.float32)\n",
    "test_conts = torch.tensor(test_conts.values).cpu()"
   ],
   "metadata": {
    "collapsed": false,
    "pycharm": {
     "name": "#%%\n"
    }
   }
  },
  {
   "cell_type": "code",
   "execution_count": null,
   "outputs": [],
   "source": [
    "# make prediction\n",
    "\n",
    "with torch.no_grad():\n",
    "    model.eval()\n",
    "    output = model.forward(test_cats,test_conts).cpu()"
   ],
   "metadata": {
    "collapsed": false,
    "pycharm": {
     "name": "#%%\n"
    }
   }
  },
  {
   "cell_type": "code",
   "execution_count": null,
   "outputs": [],
   "source": [
    "output"
   ],
   "metadata": {
    "collapsed": false,
    "pycharm": {
     "name": "#%%\n"
    }
   }
  },
  {
   "cell_type": "code",
   "execution_count": null,
   "outputs": [],
   "source": [
    "len(output)"
   ],
   "metadata": {
    "collapsed": false,
    "pycharm": {
     "name": "#%%\n"
    }
   }
  },
  {
   "cell_type": "code",
   "execution_count": null,
   "outputs": [],
   "source": [
    "type(output)"
   ],
   "metadata": {
    "collapsed": false,
    "pycharm": {
     "name": "#%%\n"
    }
   }
  },
  {
   "cell_type": "code",
   "execution_count": null,
   "outputs": [],
   "source": [
    "# convert to numpy array\n",
    "np_output = output.cpu().numpy()"
   ],
   "metadata": {
    "collapsed": false,
    "pycharm": {
     "name": "#%%\n"
    }
   }
  },
  {
   "cell_type": "code",
   "execution_count": null,
   "outputs": [],
   "source": [
    "type(np_output)"
   ],
   "metadata": {
    "collapsed": false,
    "pycharm": {
     "name": "#%%\n"
    }
   }
  },
  {
   "cell_type": "code",
   "execution_count": null,
   "outputs": [],
   "source": [
    "np_output"
   ],
   "metadata": {
    "collapsed": false,
    "pycharm": {
     "name": "#%%\n"
    }
   }
  },
  {
   "cell_type": "code",
   "execution_count": null,
   "outputs": [],
   "source": [
    "#  exp to the output data\n",
    "\n",
    "#np_output_exp = np.exp(np_output)"
   ],
   "metadata": {
    "collapsed": false,
    "pycharm": {
     "name": "#%%\n"
    }
   }
  },
  {
   "cell_type": "code",
   "execution_count": null,
   "outputs": [],
   "source": [
    "#np_output_exp"
   ],
   "metadata": {
    "collapsed": false,
    "pycharm": {
     "name": "#%%\n"
    }
   }
  },
  {
   "cell_type": "code",
   "execution_count": null,
   "outputs": [],
   "source": [
    "# CONVERT to pandas data frame \n",
    "\n",
    "df_output =  pd.DataFrame(np_output)\n",
    "\n",
    "#df_output =  pd.DataFrame(np_output_exp)"
   ],
   "metadata": {
    "collapsed": false,
    "pycharm": {
     "name": "#%%\n"
    }
   }
  },
  {
   "cell_type": "code",
   "execution_count": null,
   "outputs": [],
   "source": [
    "df_output"
   ],
   "metadata": {
    "collapsed": false,
    "pycharm": {
     "name": "#%%\n"
    }
   }
  },
  {
   "cell_type": "code",
   "execution_count": null,
   "outputs": [],
   "source": [
    "type(df_output)"
   ],
   "metadata": {
    "collapsed": false,
    "pycharm": {
     "name": "#%%\n"
    }
   }
  },
  {
   "cell_type": "code",
   "execution_count": null,
   "outputs": [],
   "source": [
    "#output file\n",
    "\n",
    "df_output.to_csv('../input/submission.csv', index=False)"
   ],
   "metadata": {
    "collapsed": false,
    "pycharm": {
     "name": "#%%\n"
    }
   }
  },
  {
   "cell_type": "code",
   "execution_count": null,
   "metadata": {},
   "outputs": [],
   "source": [
    "# function that takes in a dataframe and creates a text link to  \n",
    "# download it (will only work for files < 2MB or so)\n",
    "\n",
    "from IPython.display import HTML\n",
    "import base64\n",
    "\n",
    "def create_download_link(df, title = \"Download CSV file\", filename = \"submission.csv\"):  \n",
    "    csv = df.to_csv()\n",
    "    b64 = base64.b64encode(csv.encode())\n",
    "    payload = b64.decode()\n",
    "    html = '<a download=\"{filename}\" href=\"data:text/csv;base64,{payload}\" target=\"_blank\">{title}</a>'\n",
    "    html = html.format(payload=payload,title=title,filename=filename)\n",
    "    return HTML(html)"
   ]
  },
  {
   "cell_type": "code",
   "execution_count": null,
   "metadata": {},
   "outputs": [],
   "source": [
    "# create a link to download the dataframe\n",
    "create_download_link(df_output)"
   ]
  },
  {
   "cell_type": "code",
   "execution_count": null,
   "metadata": {},
   "outputs": [],
   "source": []
  },
  {
   "cell_type": "code",
   "execution_count": null,
   "metadata": {},
   "outputs": [],
   "source": []
  },
  {
   "cell_type": "code",
   "execution_count": null,
   "metadata": {},
   "outputs": [],
   "source": []
  },
  {
   "cell_type": "code",
   "execution_count": null,
   "metadata": {},
   "outputs": [],
   "source": []
  },
  {
   "cell_type": "code",
   "execution_count": null,
   "metadata": {},
   "outputs": [],
   "source": []
  },
  {
   "cell_type": "code",
   "execution_count": null,
   "metadata": {},
   "outputs": [],
   "source": []
  }
 ],
 "metadata": {
  "kernelspec": {
   "display_name": "Python 3",
   "language": "python",
   "name": "python3"
  },
  "language_info": {
   "codemirror_mode": {
    "name": "ipython",
    "version": 3
   },
   "file_extension": ".py",
   "mimetype": "text/x-python",
   "name": "python",
   "nbconvert_exporter": "python",
   "pygments_lexer": "ipython3",
   "version": "3.8.3"
  }
 },
 "nbformat": 4,
 "nbformat_minor": 1
}