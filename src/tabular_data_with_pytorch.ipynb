{
 "cells": [
  {
   "cell_type": "code",
   "execution_count": 2,
   "metadata": {},
   "outputs": [],
   "source": [
    "### minimize training data ###\n",
    "import pandas as pd\n",
    "import random as rndn\n",
    "\n",
    "filename = r\"../input/train.csv\"\n",
    "n = sum(1 for line in open(filename)) - 1 #number of records in file (excludes header)\n",
    "s = 100000 #desired sample size\n",
    "skip = sorted(rndn.sample(range(1,n+1),n-s)) #the 0-indexed header will not be included in the skip list\n",
    "df = pd.read_csv(filename, skiprows=skip)\n",
    "df.to_csv(\"../input/train_min.csv\")\n"
   ]
  },
  {
   "cell_type": "code",
   "execution_count": 2,
   "metadata": {
    "pycharm": {
     "name": "#%%\n"
    }
   },
   "outputs": [
    {
     "data": {
      "text/html": [
       "<div>\n",
       "<style scoped>\n",
       "    .dataframe tbody tr th:only-of-type {\n",
       "        vertical-align: middle;\n",
       "    }\n",
       "\n",
       "    .dataframe tbody tr th {\n",
       "        vertical-align: top;\n",
       "    }\n",
       "\n",
       "    .dataframe thead th {\n",
       "        text-align: right;\n",
       "    }\n",
       "</style>\n",
       "<table border=\"1\" class=\"dataframe\">\n",
       "  <thead>\n",
       "    <tr style=\"text-align: right;\">\n",
       "      <th></th>\n",
       "      <th>Unnamed: 0</th>\n",
       "      <th>key</th>\n",
       "      <th>fare_amount</th>\n",
       "      <th>pickup_datetime</th>\n",
       "      <th>pickup_longitude</th>\n",
       "      <th>pickup_latitude</th>\n",
       "      <th>dropoff_longitude</th>\n",
       "      <th>dropoff_latitude</th>\n",
       "      <th>passenger_count</th>\n",
       "    </tr>\n",
       "  </thead>\n",
       "  <tbody>\n",
       "    <tr>\n",
       "      <th>0</th>\n",
       "      <td>0</td>\n",
       "      <td>2010-03-27 02:26:39.0000001</td>\n",
       "      <td>14.5</td>\n",
       "      <td>2010-03-27 02:26:39 UTC</td>\n",
       "      <td>-73.961598</td>\n",
       "      <td>40.716487</td>\n",
       "      <td>-73.960417</td>\n",
       "      <td>40.674963</td>\n",
       "      <td>2</td>\n",
       "    </tr>\n",
       "    <tr>\n",
       "      <th>1</th>\n",
       "      <td>1</td>\n",
       "      <td>2015-02-15 22:41:32.0000003</td>\n",
       "      <td>9.0</td>\n",
       "      <td>2015-02-15 22:41:32 UTC</td>\n",
       "      <td>-74.003448</td>\n",
       "      <td>40.733101</td>\n",
       "      <td>-74.008003</td>\n",
       "      <td>40.707214</td>\n",
       "      <td>1</td>\n",
       "    </tr>\n",
       "    <tr>\n",
       "      <th>2</th>\n",
       "      <td>2</td>\n",
       "      <td>2011-01-14 18:10:00.000000129</td>\n",
       "      <td>5.7</td>\n",
       "      <td>2011-01-14 18:10:00 UTC</td>\n",
       "      <td>-73.986370</td>\n",
       "      <td>40.747380</td>\n",
       "      <td>-73.975567</td>\n",
       "      <td>40.744572</td>\n",
       "      <td>2</td>\n",
       "    </tr>\n",
       "    <tr>\n",
       "      <th>3</th>\n",
       "      <td>3</td>\n",
       "      <td>2011-06-20 14:52:22.0000004</td>\n",
       "      <td>18.5</td>\n",
       "      <td>2011-06-20 14:52:22 UTC</td>\n",
       "      <td>-73.997892</td>\n",
       "      <td>40.724297</td>\n",
       "      <td>-73.977578</td>\n",
       "      <td>40.786941</td>\n",
       "      <td>1</td>\n",
       "    </tr>\n",
       "    <tr>\n",
       "      <th>4</th>\n",
       "      <td>4</td>\n",
       "      <td>2011-10-14 12:20:00.00000051</td>\n",
       "      <td>4.9</td>\n",
       "      <td>2011-10-14 12:20:00 UTC</td>\n",
       "      <td>-73.952797</td>\n",
       "      <td>40.780497</td>\n",
       "      <td>-73.955042</td>\n",
       "      <td>40.788527</td>\n",
       "      <td>5</td>\n",
       "    </tr>\n",
       "  </tbody>\n",
       "</table>\n",
       "</div>"
      ],
      "text/plain": [
       "   Unnamed: 0                            key  fare_amount  \\\n",
       "0           0    2010-03-27 02:26:39.0000001         14.5   \n",
       "1           1    2015-02-15 22:41:32.0000003          9.0   \n",
       "2           2  2011-01-14 18:10:00.000000129          5.7   \n",
       "3           3    2011-06-20 14:52:22.0000004         18.5   \n",
       "4           4   2011-10-14 12:20:00.00000051          4.9   \n",
       "\n",
       "           pickup_datetime  pickup_longitude  pickup_latitude  \\\n",
       "0  2010-03-27 02:26:39 UTC        -73.961598        40.716487   \n",
       "1  2015-02-15 22:41:32 UTC        -74.003448        40.733101   \n",
       "2  2011-01-14 18:10:00 UTC        -73.986370        40.747380   \n",
       "3  2011-06-20 14:52:22 UTC        -73.997892        40.724297   \n",
       "4  2011-10-14 12:20:00 UTC        -73.952797        40.780497   \n",
       "\n",
       "   dropoff_longitude  dropoff_latitude  passenger_count  \n",
       "0         -73.960417         40.674963                2  \n",
       "1         -74.008003         40.707214                1  \n",
       "2         -73.975567         40.744572                2  \n",
       "3         -73.977578         40.786941                1  \n",
       "4         -73.955042         40.788527                5  "
      ]
     },
     "execution_count": 2,
     "metadata": {},
     "output_type": "execute_result"
    }
   ],
   "source": [
    "import pandas as pd\n",
    "\n",
    "df_train = pd.read_csv(\"../input/train_min.csv\")\n",
    "df_train.head()"
   ]
  },
  {
   "cell_type": "code",
   "execution_count": null,
   "outputs": [],
   "source": [
    "df_test = pd.read_csv(\"../input/test.csv\")\n",
    "df_test.head()"
   ],
   "metadata": {
    "collapsed": false,
    "pycharm": {
     "name": "#%%\n"
    }
   }
  },
  {
   "cell_type": "code",
   "execution_count": null,
   "outputs": [],
   "source": [
    "### data preprocessing ###\n",
    "### copy for submission ###\n",
    "df_test_for_sub = df_test[\"key\"]\n",
    "df_test_for_sub"
   ],
   "metadata": {
    "collapsed": false,
    "pycharm": {
     "name": "#%%\n"
    }
   }
  },
  {
   "cell_type": "code",
   "execution_count": null,
   "outputs": [],
   "source": [
    "# delete the fares that are less than 0\n",
    "df_train = df_train.loc[df_train.fare_amount > 0]\n",
    "df_train.fare_amount.min()"
   ],
   "metadata": {
    "collapsed": false,
    "pycharm": {
     "name": "#%%\n"
    }
   }
  },
  {
   "cell_type": "code",
   "execution_count": null,
   "outputs": [],
   "source": [
    "len(df_train)"
   ],
   "metadata": {
    "collapsed": false,
    "pycharm": {
     "name": "#%%\n"
    }
   }
  },
  {
   "cell_type": "code",
   "execution_count": null,
   "outputs": [],
   "source": [
    "train_X = df_train.drop(columns=['fare_amount'])\n",
    "\n",
    "Y = df_train['fare_amount']\n",
    "#Y = np.log(df_train.fare_amount)\n",
    "\n",
    "test_X = df_test"
   ],
   "metadata": {
    "collapsed": false,
    "pycharm": {
     "name": "#%%\n"
    }
   }
  },
  {
   "cell_type": "code",
   "execution_count": null,
   "outputs": [],
   "source": [
    "df = train_X.append(test_X, sort=False)\n",
    "df.head()"
   ],
   "metadata": {
    "collapsed": false,
    "pycharm": {
     "name": "#%%\n"
    }
   }
  },
  {
   "cell_type": "code",
   "execution_count": null,
   "outputs": [],
   "source": [
    "### calculate the distance traveled ###\n",
    "\n",
    "import numpy as np\n",
    "\n",
    "def haversine_distance(df, lat1, long1, lat2, long2):\n",
    "    \"\"\"\n",
    "    Calculates the haversine distance between 2 sets of GPS coordinates in df\n",
    "    \"\"\"\n",
    "    r = 6371  # average radius of Earth in kilometers\n",
    "       \n",
    "    phi1 = np.radians(df[lat1])\n",
    "    phi2 = np.radians(df[lat2])\n",
    "    \n",
    "    delta_phi = np.radians(df[lat2]-df[lat1])\n",
    "    delta_lambda = np.radians(df[long2]-df[long1])\n",
    "     \n",
    "    a = np.sin(delta_phi/2)**2 + np.cos(phi1) * np.cos(phi2) * np.sin(delta_lambda/2)**2\n",
    "    c = 2 * np.arctan2(np.sqrt(a), np.sqrt(1-a))\n",
    "    d = (r * c) # in kilometers\n",
    "\n",
    "    return d"
   ],
   "metadata": {
    "collapsed": false,
    "pycharm": {
     "name": "#%%\n"
    }
   }
  },
  {
   "cell_type": "code",
   "execution_count": null,
   "outputs": [],
   "source": [
    "df['dist_km'] = haversine_distance(\n",
    "    df,\n",
    "    'pickup_latitude', \n",
    "    'pickup_longitude', \n",
    "    'dropoff_latitude', \n",
    "    'dropoff_longitude'\n",
    ")\n",
    "\n",
    "df.head()"
   ],
   "metadata": {
    "collapsed": false,
    "pycharm": {
     "name": "#%%\n"
    }
   }
  },
  {
   "cell_type": "code",
   "execution_count": null,
   "outputs": [],
   "source": [],
   "metadata": {
    "collapsed": false,
    "pycharm": {
     "name": "#%%\n"
    }
   }
  },
  {
   "cell_type": "code",
   "execution_count": null,
   "outputs": [],
   "source": [],
   "metadata": {
    "collapsed": false,
    "pycharm": {
     "name": "#%%\n"
    }
   }
  },
  {
   "cell_type": "code",
   "execution_count": null,
   "outputs": [],
   "source": [],
   "metadata": {
    "collapsed": false,
    "pycharm": {
     "name": "#%%\n"
    }
   }
  },
  {
   "cell_type": "code",
   "execution_count": null,
   "outputs": [],
   "source": [],
   "metadata": {
    "collapsed": false,
    "pycharm": {
     "name": "#%%\n"
    }
   }
  },
  {
   "cell_type": "code",
   "execution_count": null,
   "outputs": [],
   "source": [],
   "metadata": {
    "collapsed": false,
    "pycharm": {
     "name": "#%%\n"
    }
   }
  },
  {
   "cell_type": "code",
   "execution_count": null,
   "outputs": [],
   "source": [],
   "metadata": {
    "collapsed": false,
    "pycharm": {
     "name": "#%%\n"
    }
   }
  },
  {
   "cell_type": "code",
   "execution_count": null,
   "outputs": [],
   "source": [],
   "metadata": {
    "collapsed": false,
    "pycharm": {
     "name": "#%%\n"
    }
   }
  },
  {
   "cell_type": "code",
   "execution_count": null,
   "outputs": [],
   "source": [],
   "metadata": {
    "collapsed": false,
    "pycharm": {
     "name": "#%%\n"
    }
   }
  },
  {
   "cell_type": "code",
   "execution_count": null,
   "outputs": [],
   "source": [],
   "metadata": {
    "collapsed": false,
    "pycharm": {
     "name": "#%%\n"
    }
   }
  },
  {
   "cell_type": "code",
   "execution_count": null,
   "outputs": [],
   "source": [],
   "metadata": {
    "collapsed": false,
    "pycharm": {
     "name": "#%%\n"
    }
   }
  },
  {
   "cell_type": "code",
   "execution_count": null,
   "outputs": [],
   "source": [],
   "metadata": {
    "collapsed": false,
    "pycharm": {
     "name": "#%%\n"
    }
   }
  },
  {
   "cell_type": "code",
   "execution_count": 3,
   "metadata": {
    "pycharm": {
     "name": "#%%\n"
    }
   },
   "outputs": [
    {
     "data": {
      "text/html": [
       "<div>\n",
       "<style scoped>\n",
       "    .dataframe tbody tr th:only-of-type {\n",
       "        vertical-align: middle;\n",
       "    }\n",
       "\n",
       "    .dataframe tbody tr th {\n",
       "        vertical-align: top;\n",
       "    }\n",
       "\n",
       "    .dataframe thead th {\n",
       "        text-align: right;\n",
       "    }\n",
       "</style>\n",
       "<table border=\"1\" class=\"dataframe\">\n",
       "  <thead>\n",
       "    <tr style=\"text-align: right;\">\n",
       "      <th></th>\n",
       "      <th>key</th>\n",
       "      <th>pickup_datetime</th>\n",
       "      <th>pickup_longitude</th>\n",
       "      <th>pickup_latitude</th>\n",
       "      <th>dropoff_longitude</th>\n",
       "      <th>dropoff_latitude</th>\n",
       "      <th>passenger_count</th>\n",
       "    </tr>\n",
       "  </thead>\n",
       "  <tbody>\n",
       "    <tr>\n",
       "      <th>0</th>\n",
       "      <td>2015-01-27 13:08:24.0000002</td>\n",
       "      <td>2015-01-27 13:08:24 UTC</td>\n",
       "      <td>-73.973320</td>\n",
       "      <td>40.763805</td>\n",
       "      <td>-73.981430</td>\n",
       "      <td>40.743835</td>\n",
       "      <td>1</td>\n",
       "    </tr>\n",
       "    <tr>\n",
       "      <th>1</th>\n",
       "      <td>2015-01-27 13:08:24.0000003</td>\n",
       "      <td>2015-01-27 13:08:24 UTC</td>\n",
       "      <td>-73.986862</td>\n",
       "      <td>40.719383</td>\n",
       "      <td>-73.998886</td>\n",
       "      <td>40.739201</td>\n",
       "      <td>1</td>\n",
       "    </tr>\n",
       "    <tr>\n",
       "      <th>2</th>\n",
       "      <td>2011-10-08 11:53:44.0000002</td>\n",
       "      <td>2011-10-08 11:53:44 UTC</td>\n",
       "      <td>-73.982524</td>\n",
       "      <td>40.751260</td>\n",
       "      <td>-73.979654</td>\n",
       "      <td>40.746139</td>\n",
       "      <td>1</td>\n",
       "    </tr>\n",
       "    <tr>\n",
       "      <th>3</th>\n",
       "      <td>2012-12-01 21:12:12.0000002</td>\n",
       "      <td>2012-12-01 21:12:12 UTC</td>\n",
       "      <td>-73.981160</td>\n",
       "      <td>40.767807</td>\n",
       "      <td>-73.990448</td>\n",
       "      <td>40.751635</td>\n",
       "      <td>1</td>\n",
       "    </tr>\n",
       "    <tr>\n",
       "      <th>4</th>\n",
       "      <td>2012-12-01 21:12:12.0000003</td>\n",
       "      <td>2012-12-01 21:12:12 UTC</td>\n",
       "      <td>-73.966046</td>\n",
       "      <td>40.789775</td>\n",
       "      <td>-73.988565</td>\n",
       "      <td>40.744427</td>\n",
       "      <td>1</td>\n",
       "    </tr>\n",
       "  </tbody>\n",
       "</table>\n",
       "</div>"
      ],
      "text/plain": [
       "                           key          pickup_datetime  pickup_longitude  \\\n",
       "0  2015-01-27 13:08:24.0000002  2015-01-27 13:08:24 UTC        -73.973320   \n",
       "1  2015-01-27 13:08:24.0000003  2015-01-27 13:08:24 UTC        -73.986862   \n",
       "2  2011-10-08 11:53:44.0000002  2011-10-08 11:53:44 UTC        -73.982524   \n",
       "3  2012-12-01 21:12:12.0000002  2012-12-01 21:12:12 UTC        -73.981160   \n",
       "4  2012-12-01 21:12:12.0000003  2012-12-01 21:12:12 UTC        -73.966046   \n",
       "\n",
       "   pickup_latitude  dropoff_longitude  dropoff_latitude  passenger_count  \n",
       "0        40.763805         -73.981430         40.743835                1  \n",
       "1        40.719383         -73.998886         40.739201                1  \n",
       "2        40.751260         -73.979654         40.746139                1  \n",
       "3        40.767807         -73.990448         40.751635                1  \n",
       "4        40.789775         -73.988565         40.744427                1  "
      ]
     },
     "execution_count": 3,
     "metadata": {},
     "output_type": "execute_result"
    }
   ],
   "source": []
  },
  {
   "cell_type": "code",
   "execution_count": 4,
   "metadata": {},
   "outputs": [
    {
     "data": {
      "text/plain": [
       "0       2015-01-27 13:08:24.0000002\n",
       "1       2015-01-27 13:08:24.0000003\n",
       "2       2011-10-08 11:53:44.0000002\n",
       "3       2012-12-01 21:12:12.0000002\n",
       "4       2012-12-01 21:12:12.0000003\n",
       "                   ...             \n",
       "9909    2015-05-10 12:37:51.0000002\n",
       "9910    2015-01-12 17:05:51.0000001\n",
       "9911    2015-04-19 20:44:15.0000001\n",
       "9912    2015-01-31 01:05:19.0000005\n",
       "9913    2015-01-18 14:06:23.0000006\n",
       "Name: key, Length: 9914, dtype: object"
      ]
     },
     "execution_count": 4,
     "metadata": {},
     "output_type": "execute_result"
    }
   ],
   "source": [
    "### data preprocessing ###\n",
    "### copy for submission ###\n",
    "df_test_for_sub = df_test[\"key\"]\n",
    "df_test_for_sub"
   ]
  },
  {
   "cell_type": "code",
   "execution_count": 5,
   "metadata": {},
   "outputs": [
    {
     "data": {
      "text/plain": [
       "1.5"
      ]
     },
     "execution_count": 5,
     "metadata": {},
     "output_type": "execute_result"
    }
   ],
   "source": [
    "# delete the fares that are less than 0\n",
    "df_train = df_train.loc[df_train.fare_amount > 0]\n",
    "df_train.fare_amount.min()"
   ]
  },
  {
   "cell_type": "code",
   "execution_count": 6,
   "metadata": {},
   "outputs": [
    {
     "data": {
      "text/plain": [
       "99990"
      ]
     },
     "execution_count": 6,
     "metadata": {},
     "output_type": "execute_result"
    }
   ],
   "source": [
    "len(df_train)"
   ]
  },
  {
   "cell_type": "code",
   "execution_count": 7,
   "metadata": {},
   "outputs": [],
   "source": [
    "train_X = df_train.drop(columns=['fare_amount'])\n",
    "\n",
    "Y = df_train['fare_amount']\n",
    "#Y = np.log(df_train.fare_amount)\n",
    "\n",
    "test_X = df_test"
   ]
  },
  {
   "cell_type": "code",
   "execution_count": 8,
   "metadata": {},
   "outputs": [
    {
     "data": {
      "text/html": [
       "<div>\n",
       "<style scoped>\n",
       "    .dataframe tbody tr th:only-of-type {\n",
       "        vertical-align: middle;\n",
       "    }\n",
       "\n",
       "    .dataframe tbody tr th {\n",
       "        vertical-align: top;\n",
       "    }\n",
       "\n",
       "    .dataframe thead th {\n",
       "        text-align: right;\n",
       "    }\n",
       "</style>\n",
       "<table border=\"1\" class=\"dataframe\">\n",
       "  <thead>\n",
       "    <tr style=\"text-align: right;\">\n",
       "      <th></th>\n",
       "      <th>Unnamed: 0</th>\n",
       "      <th>key</th>\n",
       "      <th>pickup_datetime</th>\n",
       "      <th>pickup_longitude</th>\n",
       "      <th>pickup_latitude</th>\n",
       "      <th>dropoff_longitude</th>\n",
       "      <th>dropoff_latitude</th>\n",
       "      <th>passenger_count</th>\n",
       "    </tr>\n",
       "  </thead>\n",
       "  <tbody>\n",
       "    <tr>\n",
       "      <th>0</th>\n",
       "      <td>0.0</td>\n",
       "      <td>2010-03-27 02:26:39.0000001</td>\n",
       "      <td>2010-03-27 02:26:39 UTC</td>\n",
       "      <td>-73.961598</td>\n",
       "      <td>40.716487</td>\n",
       "      <td>-73.960417</td>\n",
       "      <td>40.674963</td>\n",
       "      <td>2</td>\n",
       "    </tr>\n",
       "    <tr>\n",
       "      <th>1</th>\n",
       "      <td>1.0</td>\n",
       "      <td>2015-02-15 22:41:32.0000003</td>\n",
       "      <td>2015-02-15 22:41:32 UTC</td>\n",
       "      <td>-74.003448</td>\n",
       "      <td>40.733101</td>\n",
       "      <td>-74.008003</td>\n",
       "      <td>40.707214</td>\n",
       "      <td>1</td>\n",
       "    </tr>\n",
       "    <tr>\n",
       "      <th>2</th>\n",
       "      <td>2.0</td>\n",
       "      <td>2011-01-14 18:10:00.000000129</td>\n",
       "      <td>2011-01-14 18:10:00 UTC</td>\n",
       "      <td>-73.986370</td>\n",
       "      <td>40.747380</td>\n",
       "      <td>-73.975567</td>\n",
       "      <td>40.744572</td>\n",
       "      <td>2</td>\n",
       "    </tr>\n",
       "    <tr>\n",
       "      <th>3</th>\n",
       "      <td>3.0</td>\n",
       "      <td>2011-06-20 14:52:22.0000004</td>\n",
       "      <td>2011-06-20 14:52:22 UTC</td>\n",
       "      <td>-73.997892</td>\n",
       "      <td>40.724297</td>\n",
       "      <td>-73.977578</td>\n",
       "      <td>40.786941</td>\n",
       "      <td>1</td>\n",
       "    </tr>\n",
       "    <tr>\n",
       "      <th>4</th>\n",
       "      <td>4.0</td>\n",
       "      <td>2011-10-14 12:20:00.00000051</td>\n",
       "      <td>2011-10-14 12:20:00 UTC</td>\n",
       "      <td>-73.952797</td>\n",
       "      <td>40.780497</td>\n",
       "      <td>-73.955042</td>\n",
       "      <td>40.788527</td>\n",
       "      <td>5</td>\n",
       "    </tr>\n",
       "  </tbody>\n",
       "</table>\n",
       "</div>"
      ],
      "text/plain": [
       "   Unnamed: 0                            key          pickup_datetime  \\\n",
       "0         0.0    2010-03-27 02:26:39.0000001  2010-03-27 02:26:39 UTC   \n",
       "1         1.0    2015-02-15 22:41:32.0000003  2015-02-15 22:41:32 UTC   \n",
       "2         2.0  2011-01-14 18:10:00.000000129  2011-01-14 18:10:00 UTC   \n",
       "3         3.0    2011-06-20 14:52:22.0000004  2011-06-20 14:52:22 UTC   \n",
       "4         4.0   2011-10-14 12:20:00.00000051  2011-10-14 12:20:00 UTC   \n",
       "\n",
       "   pickup_longitude  pickup_latitude  dropoff_longitude  dropoff_latitude  \\\n",
       "0        -73.961598        40.716487         -73.960417         40.674963   \n",
       "1        -74.003448        40.733101         -74.008003         40.707214   \n",
       "2        -73.986370        40.747380         -73.975567         40.744572   \n",
       "3        -73.997892        40.724297         -73.977578         40.786941   \n",
       "4        -73.952797        40.780497         -73.955042         40.788527   \n",
       "\n",
       "   passenger_count  \n",
       "0                2  \n",
       "1                1  \n",
       "2                2  \n",
       "3                1  \n",
       "4                5  "
      ]
     },
     "execution_count": 8,
     "metadata": {},
     "output_type": "execute_result"
    }
   ],
   "source": [
    "df = train_X.append(test_X, sort=False)\n",
    "df.head()"
   ]
  },
  {
   "cell_type": "code",
   "execution_count": 11,
   "metadata": {},
   "outputs": [],
   "source": [
    "### calculate the distance traveled ###\n",
    "\n",
    "import numpy as np\n",
    "\n",
    "def haversine_distance(df, lat1, long1, lat2, long2):\n",
    "    \"\"\"\n",
    "    Calculates the haversine distance between 2 sets of GPS coordinates in df\n",
    "    \"\"\"\n",
    "    r = 6371  # average radius of Earth in kilometers\n",
    "       \n",
    "    phi1 = np.radians(df[lat1])\n",
    "    phi2 = np.radians(df[lat2])\n",
    "    \n",
    "    delta_phi = np.radians(df[lat2]-df[lat1])\n",
    "    delta_lambda = np.radians(df[long2]-df[long1])\n",
    "     \n",
    "    a = np.sin(delta_phi/2)**2 + np.cos(phi1) * np.cos(phi2) * np.sin(delta_lambda/2)**2\n",
    "    c = 2 * np.arctan2(np.sqrt(a), np.sqrt(1-a))\n",
    "    d = (r * c) # in kilometers\n",
    "\n",
    "    return d"
   ]
  },
  {
   "cell_type": "code",
   "execution_count": 12,
   "metadata": {},
   "outputs": [
    {
     "data": {
      "text/html": [
       "<div>\n",
       "<style scoped>\n",
       "    .dataframe tbody tr th:only-of-type {\n",
       "        vertical-align: middle;\n",
       "    }\n",
       "\n",
       "    .dataframe tbody tr th {\n",
       "        vertical-align: top;\n",
       "    }\n",
       "\n",
       "    .dataframe thead th {\n",
       "        text-align: right;\n",
       "    }\n",
       "</style>\n",
       "<table border=\"1\" class=\"dataframe\">\n",
       "  <thead>\n",
       "    <tr style=\"text-align: right;\">\n",
       "      <th></th>\n",
       "      <th>Unnamed: 0</th>\n",
       "      <th>key</th>\n",
       "      <th>pickup_datetime</th>\n",
       "      <th>pickup_longitude</th>\n",
       "      <th>pickup_latitude</th>\n",
       "      <th>dropoff_longitude</th>\n",
       "      <th>dropoff_latitude</th>\n",
       "      <th>passenger_count</th>\n",
       "      <th>dist_km</th>\n",
       "    </tr>\n",
       "  </thead>\n",
       "  <tbody>\n",
       "    <tr>\n",
       "      <th>0</th>\n",
       "      <td>0.0</td>\n",
       "      <td>2010-03-27 02:26:39.0000001</td>\n",
       "      <td>2010-03-27 02:26:39 UTC</td>\n",
       "      <td>-73.961598</td>\n",
       "      <td>40.716487</td>\n",
       "      <td>-73.960417</td>\n",
       "      <td>40.674963</td>\n",
       "      <td>2</td>\n",
       "      <td>4.618332</td>\n",
       "    </tr>\n",
       "    <tr>\n",
       "      <th>1</th>\n",
       "      <td>1.0</td>\n",
       "      <td>2015-02-15 22:41:32.0000003</td>\n",
       "      <td>2015-02-15 22:41:32 UTC</td>\n",
       "      <td>-74.003448</td>\n",
       "      <td>40.733101</td>\n",
       "      <td>-74.008003</td>\n",
       "      <td>40.707214</td>\n",
       "      <td>1</td>\n",
       "      <td>2.903933</td>\n",
       "    </tr>\n",
       "    <tr>\n",
       "      <th>2</th>\n",
       "      <td>2.0</td>\n",
       "      <td>2011-01-14 18:10:00.000000129</td>\n",
       "      <td>2011-01-14 18:10:00 UTC</td>\n",
       "      <td>-73.986370</td>\n",
       "      <td>40.747380</td>\n",
       "      <td>-73.975567</td>\n",
       "      <td>40.744572</td>\n",
       "      <td>2</td>\n",
       "      <td>0.962144</td>\n",
       "    </tr>\n",
       "    <tr>\n",
       "      <th>3</th>\n",
       "      <td>3.0</td>\n",
       "      <td>2011-06-20 14:52:22.0000004</td>\n",
       "      <td>2011-06-20 14:52:22 UTC</td>\n",
       "      <td>-73.997892</td>\n",
       "      <td>40.724297</td>\n",
       "      <td>-73.977578</td>\n",
       "      <td>40.786941</td>\n",
       "      <td>1</td>\n",
       "      <td>7.172769</td>\n",
       "    </tr>\n",
       "    <tr>\n",
       "      <th>4</th>\n",
       "      <td>4.0</td>\n",
       "      <td>2011-10-14 12:20:00.00000051</td>\n",
       "      <td>2011-10-14 12:20:00 UTC</td>\n",
       "      <td>-73.952797</td>\n",
       "      <td>40.780497</td>\n",
       "      <td>-73.955042</td>\n",
       "      <td>40.788527</td>\n",
       "      <td>5</td>\n",
       "      <td>0.912682</td>\n",
       "    </tr>\n",
       "  </tbody>\n",
       "</table>\n",
       "</div>"
      ],
      "text/plain": [
       "   Unnamed: 0                            key          pickup_datetime  \\\n",
       "0         0.0    2010-03-27 02:26:39.0000001  2010-03-27 02:26:39 UTC   \n",
       "1         1.0    2015-02-15 22:41:32.0000003  2015-02-15 22:41:32 UTC   \n",
       "2         2.0  2011-01-14 18:10:00.000000129  2011-01-14 18:10:00 UTC   \n",
       "3         3.0    2011-06-20 14:52:22.0000004  2011-06-20 14:52:22 UTC   \n",
       "4         4.0   2011-10-14 12:20:00.00000051  2011-10-14 12:20:00 UTC   \n",
       "\n",
       "   pickup_longitude  pickup_latitude  dropoff_longitude  dropoff_latitude  \\\n",
       "0        -73.961598        40.716487         -73.960417         40.674963   \n",
       "1        -74.003448        40.733101         -74.008003         40.707214   \n",
       "2        -73.986370        40.747380         -73.975567         40.744572   \n",
       "3        -73.997892        40.724297         -73.977578         40.786941   \n",
       "4        -73.952797        40.780497         -73.955042         40.788527   \n",
       "\n",
       "   passenger_count   dist_km  \n",
       "0                2  4.618332  \n",
       "1                1  2.903933  \n",
       "2                2  0.962144  \n",
       "3                1  7.172769  \n",
       "4                5  0.912682  "
      ]
     },
     "execution_count": 12,
     "metadata": {},
     "output_type": "execute_result"
    }
   ],
   "source": [
    "df['dist_km'] = haversine_distance(\n",
    "    df,\n",
    "    'pickup_latitude', \n",
    "    'pickup_longitude', \n",
    "    'dropoff_latitude', \n",
    "    'dropoff_longitude'\n",
    ")\n",
    "\n",
    "df.head()"
   ]
  },
  {
   "cell_type": "code",
   "execution_count": null,
   "metadata": {},
   "outputs": [],
   "source": []
  },
  {
   "cell_type": "code",
   "execution_count": null,
   "metadata": {},
   "outputs": [],
   "source": []
  },
  {
   "cell_type": "code",
   "execution_count": null,
   "metadata": {},
   "outputs": [],
   "source": []
  },
  {
   "cell_type": "code",
   "execution_count": null,
   "metadata": {},
   "outputs": [],
   "source": []
  },
  {
   "cell_type": "code",
   "execution_count": null,
   "metadata": {},
   "outputs": [],
   "source": []
  },
  {
   "cell_type": "code",
   "execution_count": null,
   "metadata": {},
   "outputs": [],
   "source": []
  },
  {
   "cell_type": "code",
   "execution_count": null,
   "metadata": {},
   "outputs": [],
   "source": []
  },
  {
   "cell_type": "code",
   "execution_count": null,
   "metadata": {},
   "outputs": [],
   "source": []
  },
  {
   "cell_type": "code",
   "execution_count": null,
   "metadata": {},
   "outputs": [],
   "source": []
  },
  {
   "cell_type": "code",
   "execution_count": null,
   "metadata": {},
   "outputs": [],
   "source": []
  },
  {
   "cell_type": "code",
   "execution_count": null,
   "metadata": {},
   "outputs": [],
   "source": []
  },
  {
   "cell_type": "code",
   "execution_count": null,
   "metadata": {},
   "outputs": [],
   "source": []
  },
  {
   "cell_type": "code",
   "execution_count": null,
   "metadata": {},
   "outputs": [],
   "source": []
  }
 ],
 "metadata": {
  "kernelspec": {
   "display_name": "Python 3",
   "language": "python",
   "name": "python3"
  },
  "language_info": {
   "codemirror_mode": {
    "name": "ipython",
    "version": 3
   },
   "file_extension": ".py",
   "mimetype": "text/x-python",
   "name": "python",
   "nbconvert_exporter": "python",
   "pygments_lexer": "ipython3",
   "version": "3.8.3"
  }
 },
 "nbformat": 4,
 "nbformat_minor": 1
}